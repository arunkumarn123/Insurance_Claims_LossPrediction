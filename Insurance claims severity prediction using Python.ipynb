{
 "cells": [
  {
   "cell_type": "markdown",
   "metadata": {},
   "source": [
    "The data has been collected from Kaggle. Source: https://www.kaggle.com/c/allstate-claims-severity/data\n",
    "\n",
    "**Goal:** Predicting the **loss** based on the other variables in the dataset."
   ]
  },
  {
   "cell_type": "code",
   "execution_count": 1,
   "metadata": {
    "collapsed": true
   },
   "outputs": [],
   "source": [
    "#importing libraries\n",
    "import warnings\n",
    "warnings.filterwarnings('ignore')\n",
    "import pandas as pd\n",
    "import numpy as np\n",
    "import matplotlib.pyplot as plt\n",
    "import seaborn as sn\n",
    "%matplotlib inline"
   ]
  },
  {
   "cell_type": "code",
   "execution_count": 2,
   "metadata": {
    "collapsed": true
   },
   "outputs": [],
   "source": [
    "import os\n",
    "\n",
    "mingw_path = 'C:\\\\Program Files\\\\mingw-w64\\\\x86_64-7.2.0-posix-seh-rt_v5-rev1\\\\mingw64\\\\bin'\n",
    "\n",
    "os.environ['PATH'] = mingw_path + ';' + os.environ['PATH']"
   ]
  },
  {
   "cell_type": "code",
   "execution_count": 37,
   "metadata": {
    "collapsed": true
   },
   "outputs": [],
   "source": [
    "#import training and test data\n",
    "try:\n",
    "    train_data = pd.read_csv(\"./train.csv/train.csv\")\n",
    "    test_data = pd.read_csv(\"./test.csv/test.csv\")\n",
    "except Exception as e:\n",
    "    print(\"Datasets are not found in the specified location/failure to load\")\n",
    "    print(e)"
   ]
  },
  {
   "cell_type": "code",
   "execution_count": 38,
   "metadata": {
    "collapsed": true
   },
   "outputs": [],
   "source": [
    "complete = pd.DataFrame(train_data.append(test_data))"
   ]
  },
  {
   "cell_type": "code",
   "execution_count": 39,
   "metadata": {},
   "outputs": [
    {
     "name": "stdout",
     "output_type": "stream",
     "text": [
      "(313864, 132)\n",
      "(188318, 132)\n",
      "(125546, 131)\n"
     ]
    }
   ],
   "source": [
    "print(complete.shape)\n",
    "print(train_data.shape)\n",
    "print(test_data.shape)"
   ]
  },
  {
   "cell_type": "code",
   "execution_count": 40,
   "metadata": {},
   "outputs": [
    {
     "name": "stdout",
     "output_type": "stream",
     "text": [
      "Index(['cat1', 'cat10', 'cat100', 'cat101', 'cat102', 'cat103', 'cat104',\n",
      "       'cat105', 'cat106', 'cat107',\n",
      "       ...\n",
      "       'cont2', 'cont3', 'cont4', 'cont5', 'cont6', 'cont7', 'cont8', 'cont9',\n",
      "       'id', 'loss'],\n",
      "      dtype='object', length=132)\n"
     ]
    }
   ],
   "source": [
    "print(complete.columns)"
   ]
  },
  {
   "cell_type": "code",
   "execution_count": 41,
   "metadata": {},
   "outputs": [
    {
     "name": "stdout",
     "output_type": "stream",
     "text": [
      "Index(['cat1', 'cat10', 'cat100', 'cat101', 'cat102', 'cat103', 'cat104',\n",
      "       'cat105', 'cat106', 'cat107',\n",
      "       ...\n",
      "       'cont14', 'cont2', 'cont3', 'cont4', 'cont5', 'cont6', 'cont7', 'cont8',\n",
      "       'cont9', 'loss'],\n",
      "      dtype='object', length=131)\n"
     ]
    }
   ],
   "source": [
    "complete = complete.drop('id', axis = 1)\n",
    "#Printing column names\n",
    "print(complete.columns)"
   ]
  },
  {
   "cell_type": "code",
   "execution_count": 8,
   "metadata": {},
   "outputs": [
    {
     "name": "stdout",
     "output_type": "stream",
     "text": [
      "  cat1 cat10 cat100 cat101 cat102 cat103 cat104 cat105 cat106 cat107  \\\n",
      "0    A     A      B      G      A      A      I      E      G      J   \n",
      "1    A     B      L      F      A      A      E      E      I      K   \n",
      "2    A     B      L      O      A      B      E      F      H      F   \n",
      "3    B     A      I      D      A      A      E      E      I      K   \n",
      "4    A     B      F      J      A      A      D      E      K      G   \n",
      "5    A     A      J      D      A      A      E      E      H      F   \n",
      "6    A     A      J      A      A      C      E      E      H      F   \n",
      "7    A     A      H      C      A      A      K      F      F      I   \n",
      "8    A     B      C      Q      A      C      H      F      G      M   \n",
      "9    A     A      F      D      A      F      K      H      G      J   \n",
      "\n",
      "     ...       cont14     cont2     cont3     cont4     cont5     cont6  \\\n",
      "0    ...     0.714843  0.245921  0.187583  0.789639  0.310061  0.718367   \n",
      "1    ...     0.304496  0.737068  0.592681  0.614134  0.885834  0.438917   \n",
      "2    ...     0.774425  0.358319  0.484196  0.236924  0.397069  0.289648   \n",
      "3    ...     0.602642  0.555782  0.527991  0.373816  0.422268  0.440945   \n",
      "4    ...     0.432606  0.159990  0.527991  0.473202  0.704268  0.178193   \n",
      "5    ...     0.726792  0.681761  0.634224  0.373816  0.302678  0.364464   \n",
      "6    ...     0.382931  0.737068  0.613660  0.189137  0.295397  0.381515   \n",
      "7    ...     0.242416  0.488789  0.263570  0.623770  0.473767  0.867021   \n",
      "8    ...     0.361191  0.555782  0.440642  0.473202  0.281143  0.628534   \n",
      "9    ...     0.294523  0.358319  0.356819  0.802892  0.310061  0.713343   \n",
      "\n",
      "      cont7    cont8    cont9      loss  \n",
      "0  0.335060  0.30260  0.67135   2213.18  \n",
      "1  0.436585  0.60087  0.35127   1283.60  \n",
      "2  0.315545  0.27320  0.26076   3005.09  \n",
      "3  0.391128  0.31796  0.32128    939.85  \n",
      "4  0.247408  0.24564  0.22089   2763.85  \n",
      "5  0.401162  0.26847  0.46226   5142.87  \n",
      "6  0.363768  0.24564  0.40455   1132.22  \n",
      "7  0.583389  0.90267  0.84847   3585.75  \n",
      "8  0.384099  0.61229  0.38249  10280.20  \n",
      "9  0.469223  0.30260  0.67135   6184.59  \n",
      "\n",
      "[10 rows x 131 columns]\n"
     ]
    }
   ],
   "source": [
    "#printing the first 10 rows of complete data\n",
    "print(complete.head(10)); "
   ]
  },
  {
   "cell_type": "code",
   "execution_count": 9,
   "metadata": {},
   "outputs": [
    {
     "name": "stdout",
     "output_type": "stream",
     "text": [
      "          cat1   cat10  cat100  cat101  cat102  cat103  cat104  cat105  \\\n",
      "count   313864  313864  313864  313864  313864  313864  313864  313864   \n",
      "unique       2       2      15      19       9      14      17      20   \n",
      "top          A       A       F       A       A       A       E       E   \n",
      "freq    235646  267157   71817  177924  295386  206019   71557  127477   \n",
      "\n",
      "        cat106  cat107  cat108  cat109   cat11  cat110  cat111  cat112  \\\n",
      "count   313864  313864  313864  313864  313864  313864  313864  313864   \n",
      "unique      18      20      11      85       2     134      17      51   \n",
      "top          G       F       B      BI       A      CL       A       E   \n",
      "freq     78180   78863  108731  255052  280656   42097  214421   42109   \n",
      "\n",
      "        cat113  cat114  cat115  cat116   cat12   cat13   cat14   cat15  \\\n",
      "count   313864  313864  313864  313864  313864  313864  313864  313864   \n",
      "unique      63      19      23     349       2       2       2       2   \n",
      "top         BM       A       K      HK       A       A       A       A   \n",
      "freq     43756  219707   73027   35076  266602  281455  309995  313807   \n",
      "\n",
      "         cat16   cat17   cat18   cat19    cat2   cat20   cat21   cat22  \\\n",
      "count   313864  313864  313864  313864  313864  313864  313864  313864   \n",
      "unique       2       2       2       2       2       2       2       2   \n",
      "top          A       A       A       A       A       A       A       A   \n",
      "freq    303105  311675  312233  310886  177924  313548  313196  313794   \n",
      "\n",
      "         cat23   cat24   cat25   cat26   cat27   cat28   cat29    cat3  \\\n",
      "count   313864  313864  313864  313864  313864  313864  313864  313864   \n",
      "unique       2       2       2       2       2       2       2       2   \n",
      "top          A       A       A       A       A       A       A       A   \n",
      "freq    262717  303407  283374  295196  280489  301689  307686  296745   \n",
      "\n",
      "         cat30   cat31   cat32   cat33   cat34   cat35   cat36   cat37  \\\n",
      "count   313864  313864  313864  313864  313864  313864  313864  313864   \n",
      "unique       2       2       2       2       2       2       2       2   \n",
      "top          A       A       A       A       A       A       A       A   \n",
      "freq    308007  305041  311830  312275  312918  313522  260348  276241   \n",
      "\n",
      "         cat38   cat39    cat4   cat40   cat41   cat42   cat43   cat44  \\\n",
      "count   313864  313864  313864  313864  313864  313864  313864  313864   \n",
      "unique       2       2       2       2       2       2       2       2   \n",
      "top          A       A       A       A       A       A       A       A   \n",
      "freq    282097  305563  214421  300200  302017  310966  306921  287701   \n",
      "\n",
      "         cat45   cat46   cat47   cat48   cat49    cat5   cat50   cat51  \\\n",
      "count   313864  313864  313864  313864  313864  313864  313864  313864   \n",
      "unique       2       2       2       2       2       2       2       2   \n",
      "top          A       A       A       A       A       A       A       A   \n",
      "freq    306638  312408  312672  313415  298622  206019  229499  311832   \n",
      "\n",
      "         cat52   cat53   cat54   cat55   cat56   cat57   cat58   cat59  \\\n",
      "count   313864  313864  313864  313864  313864  313864  313864  313864   \n",
      "unique       2       2       2       2       2       2       2       2   \n",
      "top          A       A       A       A       A       A       A       A   \n",
      "freq    299266  288337  306339  313622  313571  308856  313472  313358   \n",
      "\n",
      "          cat6   cat60   cat61   cat62   cat63   cat64   cat65   cat66  \\\n",
      "count   313864  313864  313864  313864  313864  313864  313864  313864   \n",
      "unique       2       2       2       2       2       2       2       2   \n",
      "top          A       A       A       A       A       A       A       A   \n",
      "freq    219707  313161  312620  313798  313740  313795  310077  299912   \n",
      "\n",
      "         cat67   cat68   cat69    cat7   cat70   cat71   cat72   cat73  \\\n",
      "count   313864  313864  313864  313864  313864  313864  313864  313864   \n",
      "unique       2       2       2       2       2       2       2       3   \n",
      "top          A       A       A       A       A       A       A       A   \n",
      "freq    312738  313613  313362  306290  313821  297833  197808  256870   \n",
      "\n",
      "         cat74   cat75   cat76   cat77   cat78   cat79    cat8   cat80  \\\n",
      "count   313864  313864  313864  313864  313864  313864  313864  313864   \n",
      "unique       3       3       3       4       4       4       2       4   \n",
      "top          A       A       A       D       B       B       A       D   \n",
      "freq    307786  257135  302213  312479  310851  254936  295386  229344   \n",
      "\n",
      "         cat81   cat82   cat83   cat84   cat85   cat86   cat87   cat88  \\\n",
      "count   313864  313864  313864  313864  313864  313864  313864  313864   \n",
      "unique       4       4       4       4       4       4       4       4   \n",
      "top          D       B       B       C       B       B       B       A   \n",
      "freq    257299  245540  235643  258138  309968  172499  278298  281353   \n",
      "\n",
      "         cat89    cat9   cat90   cat91   cat92   cat93   cat94   cat95  \\\n",
      "count   313864  313864  313864  313864  313864  313864  313864  313864   \n",
      "unique       9       2       7       8       9       5       7       5   \n",
      "top          A       A       A       A       A       D       D       C   \n",
      "freq    306290  188631  296745  184815  207742  250268  202549  146367   \n",
      "\n",
      "         cat96   cat97   cat98   cat99  \n",
      "count   313864  313864  313864  313864  \n",
      "unique       9       7       5      17  \n",
      "top          E       C       A       P  \n",
      "freq    290522  129940  175292  132100  \n"
     ]
    },
    {
     "data": {
      "text/html": [
       "<div>\n",
       "<style>\n",
       "    .dataframe thead tr:only-child th {\n",
       "        text-align: right;\n",
       "    }\n",
       "\n",
       "    .dataframe thead th {\n",
       "        text-align: left;\n",
       "    }\n",
       "\n",
       "    .dataframe tbody tr th {\n",
       "        vertical-align: top;\n",
       "    }\n",
       "</style>\n",
       "<table border=\"1\" class=\"dataframe\">\n",
       "  <thead>\n",
       "    <tr style=\"text-align: right;\">\n",
       "      <th></th>\n",
       "      <th>cont1</th>\n",
       "      <th>cont10</th>\n",
       "      <th>cont11</th>\n",
       "      <th>cont12</th>\n",
       "      <th>cont13</th>\n",
       "      <th>cont14</th>\n",
       "      <th>cont2</th>\n",
       "      <th>cont3</th>\n",
       "      <th>cont4</th>\n",
       "      <th>cont5</th>\n",
       "      <th>cont6</th>\n",
       "      <th>cont7</th>\n",
       "      <th>cont8</th>\n",
       "      <th>cont9</th>\n",
       "      <th>loss</th>\n",
       "    </tr>\n",
       "  </thead>\n",
       "  <tbody>\n",
       "    <tr>\n",
       "      <th>count</th>\n",
       "      <td>313864.000000</td>\n",
       "      <td>313864.000000</td>\n",
       "      <td>313864.000000</td>\n",
       "      <td>313864.000000</td>\n",
       "      <td>313864.000000</td>\n",
       "      <td>313864.000000</td>\n",
       "      <td>313864.000000</td>\n",
       "      <td>313864.000000</td>\n",
       "      <td>313864.000000</td>\n",
       "      <td>313864.000000</td>\n",
       "      <td>313864.000000</td>\n",
       "      <td>313864.000000</td>\n",
       "      <td>313864.000000</td>\n",
       "      <td>313864.00000</td>\n",
       "      <td>188318.000000</td>\n",
       "    </tr>\n",
       "    <tr>\n",
       "      <th>mean</th>\n",
       "      <td>0.494096</td>\n",
       "      <td>0.498403</td>\n",
       "      <td>0.493850</td>\n",
       "      <td>0.493503</td>\n",
       "      <td>0.493917</td>\n",
       "      <td>0.495665</td>\n",
       "      <td>0.507089</td>\n",
       "      <td>0.498653</td>\n",
       "      <td>0.492021</td>\n",
       "      <td>0.487513</td>\n",
       "      <td>0.491442</td>\n",
       "      <td>0.485360</td>\n",
       "      <td>0.486823</td>\n",
       "      <td>0.48571</td>\n",
       "      <td>3037.337686</td>\n",
       "    </tr>\n",
       "    <tr>\n",
       "      <th>std</th>\n",
       "      <td>0.187768</td>\n",
       "      <td>0.185906</td>\n",
       "      <td>0.210002</td>\n",
       "      <td>0.209716</td>\n",
       "      <td>0.212911</td>\n",
       "      <td>0.222537</td>\n",
       "      <td>0.207056</td>\n",
       "      <td>0.201961</td>\n",
       "      <td>0.211101</td>\n",
       "      <td>0.209063</td>\n",
       "      <td>0.205394</td>\n",
       "      <td>0.178531</td>\n",
       "      <td>0.199442</td>\n",
       "      <td>0.18185</td>\n",
       "      <td>2904.086186</td>\n",
       "    </tr>\n",
       "    <tr>\n",
       "      <th>min</th>\n",
       "      <td>0.000016</td>\n",
       "      <td>0.000000</td>\n",
       "      <td>0.035321</td>\n",
       "      <td>0.036232</td>\n",
       "      <td>0.000228</td>\n",
       "      <td>0.178568</td>\n",
       "      <td>0.001149</td>\n",
       "      <td>0.002634</td>\n",
       "      <td>0.176921</td>\n",
       "      <td>0.281143</td>\n",
       "      <td>0.012683</td>\n",
       "      <td>0.069503</td>\n",
       "      <td>0.236880</td>\n",
       "      <td>0.00008</td>\n",
       "      <td>0.670000</td>\n",
       "    </tr>\n",
       "    <tr>\n",
       "      <th>25%</th>\n",
       "      <td>0.347403</td>\n",
       "      <td>0.364580</td>\n",
       "      <td>0.310961</td>\n",
       "      <td>0.314945</td>\n",
       "      <td>0.315758</td>\n",
       "      <td>0.294657</td>\n",
       "      <td>0.358319</td>\n",
       "      <td>0.336963</td>\n",
       "      <td>0.327354</td>\n",
       "      <td>0.281143</td>\n",
       "      <td>0.336105</td>\n",
       "      <td>0.351299</td>\n",
       "      <td>0.317960</td>\n",
       "      <td>0.35897</td>\n",
       "      <td>1204.460000</td>\n",
       "    </tr>\n",
       "    <tr>\n",
       "      <th>50%</th>\n",
       "      <td>0.475784</td>\n",
       "      <td>0.461190</td>\n",
       "      <td>0.457203</td>\n",
       "      <td>0.462286</td>\n",
       "      <td>0.363547</td>\n",
       "      <td>0.407020</td>\n",
       "      <td>0.555782</td>\n",
       "      <td>0.527991</td>\n",
       "      <td>0.452887</td>\n",
       "      <td>0.422268</td>\n",
       "      <td>0.440945</td>\n",
       "      <td>0.438650</td>\n",
       "      <td>0.441060</td>\n",
       "      <td>0.44145</td>\n",
       "      <td>2115.570000</td>\n",
       "    </tr>\n",
       "    <tr>\n",
       "      <th>75%</th>\n",
       "      <td>0.625272</td>\n",
       "      <td>0.619840</td>\n",
       "      <td>0.678924</td>\n",
       "      <td>0.679096</td>\n",
       "      <td>0.689974</td>\n",
       "      <td>0.724707</td>\n",
       "      <td>0.681761</td>\n",
       "      <td>0.634224</td>\n",
       "      <td>0.652072</td>\n",
       "      <td>0.643315</td>\n",
       "      <td>0.655818</td>\n",
       "      <td>0.591165</td>\n",
       "      <td>0.623580</td>\n",
       "      <td>0.56889</td>\n",
       "      <td>3864.045000</td>\n",
       "    </tr>\n",
       "    <tr>\n",
       "      <th>max</th>\n",
       "      <td>0.984975</td>\n",
       "      <td>0.994980</td>\n",
       "      <td>0.998742</td>\n",
       "      <td>0.998484</td>\n",
       "      <td>0.988494</td>\n",
       "      <td>0.844848</td>\n",
       "      <td>0.862654</td>\n",
       "      <td>0.944251</td>\n",
       "      <td>0.956046</td>\n",
       "      <td>0.983674</td>\n",
       "      <td>0.997162</td>\n",
       "      <td>1.000000</td>\n",
       "      <td>0.982800</td>\n",
       "      <td>0.99540</td>\n",
       "      <td>121012.250000</td>\n",
       "    </tr>\n",
       "  </tbody>\n",
       "</table>\n",
       "</div>"
      ],
      "text/plain": [
       "               cont1         cont10         cont11         cont12  \\\n",
       "count  313864.000000  313864.000000  313864.000000  313864.000000   \n",
       "mean        0.494096       0.498403       0.493850       0.493503   \n",
       "std         0.187768       0.185906       0.210002       0.209716   \n",
       "min         0.000016       0.000000       0.035321       0.036232   \n",
       "25%         0.347403       0.364580       0.310961       0.314945   \n",
       "50%         0.475784       0.461190       0.457203       0.462286   \n",
       "75%         0.625272       0.619840       0.678924       0.679096   \n",
       "max         0.984975       0.994980       0.998742       0.998484   \n",
       "\n",
       "              cont13         cont14          cont2          cont3  \\\n",
       "count  313864.000000  313864.000000  313864.000000  313864.000000   \n",
       "mean        0.493917       0.495665       0.507089       0.498653   \n",
       "std         0.212911       0.222537       0.207056       0.201961   \n",
       "min         0.000228       0.178568       0.001149       0.002634   \n",
       "25%         0.315758       0.294657       0.358319       0.336963   \n",
       "50%         0.363547       0.407020       0.555782       0.527991   \n",
       "75%         0.689974       0.724707       0.681761       0.634224   \n",
       "max         0.988494       0.844848       0.862654       0.944251   \n",
       "\n",
       "               cont4          cont5          cont6          cont7  \\\n",
       "count  313864.000000  313864.000000  313864.000000  313864.000000   \n",
       "mean        0.492021       0.487513       0.491442       0.485360   \n",
       "std         0.211101       0.209063       0.205394       0.178531   \n",
       "min         0.176921       0.281143       0.012683       0.069503   \n",
       "25%         0.327354       0.281143       0.336105       0.351299   \n",
       "50%         0.452887       0.422268       0.440945       0.438650   \n",
       "75%         0.652072       0.643315       0.655818       0.591165   \n",
       "max         0.956046       0.983674       0.997162       1.000000   \n",
       "\n",
       "               cont8         cont9           loss  \n",
       "count  313864.000000  313864.00000  188318.000000  \n",
       "mean        0.486823       0.48571    3037.337686  \n",
       "std         0.199442       0.18185    2904.086186  \n",
       "min         0.236880       0.00008       0.670000  \n",
       "25%         0.317960       0.35897    1204.460000  \n",
       "50%         0.441060       0.44145    2115.570000  \n",
       "75%         0.623580       0.56889    3864.045000  \n",
       "max         0.982800       0.99540  121012.250000  "
      ]
     },
     "execution_count": 9,
     "metadata": {},
     "output_type": "execute_result"
    }
   ],
   "source": [
    "#Displaying all the columns in describe by setting display maximum columns\n",
    "pd.set_option('display.max_columns', None)\n",
    "print(complete.describe(include = ['O']))\n",
    "complete.describe()"
   ]
  },
  {
   "cell_type": "code",
   "execution_count": 15,
   "metadata": {},
   "outputs": [
    {
     "name": "stdout",
     "output_type": "stream",
     "text": [
      "cont1     0.513207\n",
      "cont10    0.352118\n",
      "cont11    0.281141\n",
      "cont12    0.291998\n",
      "cont13    0.376140\n",
      "cont14    0.250674\n",
      "cont2    -0.311147\n",
      "cont3    -0.007023\n",
      "cont4     0.417561\n",
      "cont5     0.679614\n",
      "cont6     0.458415\n",
      "cont7     0.825893\n",
      "cont8     0.673240\n",
      "cont9     1.067252\n",
      "loss      3.794958\n",
      "dtype: float64\n"
     ]
    },
    {
     "data": {
      "text/plain": [
       "cont1     -0.108758\n",
       "cont10    -0.855859\n",
       "cont11    -1.049763\n",
       "cont12    -1.029581\n",
       "cont13    -1.352624\n",
       "cont14    -1.529678\n",
       "cont2     -0.892459\n",
       "cont3     -0.604999\n",
       "cont4     -0.961135\n",
       "cont5     -0.881571\n",
       "cont6     -0.767756\n",
       "cont7      0.049055\n",
       "cont8     -0.549578\n",
       "cont9      0.552452\n",
       "loss      48.079568\n",
       "dtype: float64"
      ]
     },
     "execution_count": 15,
     "metadata": {},
     "output_type": "execute_result"
    }
   ],
   "source": [
    "#Checking the skew of the train_data\n",
    "print(complete.skew())\n",
    "\n",
    "#Checking the kurtosis of the train_data\n",
    "complete.kurt()"
   ]
  },
  {
   "cell_type": "markdown",
   "metadata": {},
   "source": [
    "\n",
    "Let us visualize the skewness and kurtosis in the dataset."
   ]
  },
  {
   "cell_type": "code",
   "execution_count": 42,
   "metadata": {},
   "outputs": [
    {
     "name": "stdout",
     "output_type": "stream",
     "text": [
      "14\n",
      "116\n"
     ]
    }
   ],
   "source": [
    "cont_vars = complete.iloc[:,116:130].columns.values\n",
    "print(len(cont_vars))\n",
    "cat_vars = complete.iloc[:,:116].columns.values\n",
    "print(len(cat_vars))"
   ]
  },
  {
   "cell_type": "code",
   "execution_count": 17,
   "metadata": {},
   "outputs": [
    {
     "data": {
      "text/plain": [
       "<matplotlib.axes._subplots.AxesSubplot at 0x14d21445048>"
      ]
     },
     "execution_count": 17,
     "metadata": {},
     "output_type": "execute_result"
    },
    {
     "data": {
      "text/plain": [
       "<matplotlib.figure.Figure at 0x14d21445320>"
      ]
     },
     "metadata": {},
     "output_type": "display_data"
    },
    {
     "data": {
      "image/png": "[encoded data removed]",
      "text/plain": [
       "<matplotlib.figure.Figure at 0x14d214459e8>"
      ]
     },
     "metadata": {},
     "output_type": "display_data"
    }
   ],
   "source": [
    "#sn.boxplot(train_data[\"cont1\"])\n",
    "plt.clf()\n",
    "plt.figure(figsize=(12,9))\n",
    "sn.boxplot(data = complete[cont_vars])"
   ]
  },
  {
   "cell_type": "markdown",
   "metadata": {},
   "source": [
    "All the continuous features have some kind of skewness."
   ]
  },
  {
   "cell_type": "code",
   "execution_count": 18,
   "metadata": {},
   "outputs": [
    {
     "data": {
      "image/png": "[encoded data removed]",
      "text/plain": [
       "<matplotlib.figure.Figure at 0x14d214acc18>"
      ]
     },
     "metadata": {},
     "output_type": "display_data"
    }
   ],
   "source": [
    "\n",
    "plt.figure(figsize=(6,6))\n",
    "sn.boxplot(y = complete['loss'], width = 0.8, color = 'yellow')\n",
    "plt.show()"
   ]
  },
  {
   "cell_type": "markdown",
   "metadata": {},
   "source": [
    "Looks like there are many outliers in the loss variable."
   ]
  },
  {
   "cell_type": "markdown",
   "metadata": {},
   "source": [
    "There are 46427 values above the IQR. Let's apply log transformation on both the loss variable and other continuous variables to see how this turns out to be!"
   ]
  },
  {
   "cell_type": "code",
   "execution_count": 43,
   "metadata": {
    "collapsed": true
   },
   "outputs": [],
   "source": [
    "complete.iloc[:,116:] = complete.iloc[:,116:].transform(lambda x: np.log1p(x))"
   ]
  },
  {
   "cell_type": "code",
   "execution_count": null,
   "metadata": {
    "collapsed": true
   },
   "outputs": [],
   "source": [
    "print(\"*SKEW*\")\n",
    "print(\"\")\n",
    "print(complete.skew())\n",
    "print(\"\")\n",
    "print(\"*KURT*\")\n",
    "print(\"\")\n",
    "print(complete.kurt())"
   ]
  },
  {
   "cell_type": "markdown",
   "metadata": {
    "collapsed": true
   },
   "source": [
    "Now let us visualize it using density plots."
   ]
  },
  {
   "cell_type": "code",
   "execution_count": null,
   "metadata": {
    "collapsed": true
   },
   "outputs": [],
   "source": [
    "for i in range(len(cont_vars)):\n",
    "    plt.figure(figsize=(8,8))\n",
    "    sn.distplot(a = (complete[cont_vars[i]]), kde = True, color = 'blue')\n"
   ]
  },
  {
   "cell_type": "code",
   "execution_count": null,
   "metadata": {
    "collapsed": true
   },
   "outputs": [],
   "source": [
    "loss_col = complete['loss']\n",
    "plt.figure(figsize=(8,8))\n",
    "sn.distplot(a = (loss_col[:188318]), color = 'blue')\n",
    "    \n"
   ]
  },
  {
   "cell_type": "code",
   "execution_count": null,
   "metadata": {
    "collapsed": true
   },
   "outputs": [],
   "source": [
    "(complete.corr())"
   ]
  },
  {
   "cell_type": "code",
   "execution_count": null,
   "metadata": {
    "collapsed": true
   },
   "outputs": [],
   "source": [
    "plt.figure(figsize = (14,8))\n",
    "sn.heatmap(complete.corr(), cmap = 'Blues', linewidths = 0.2)"
   ]
  },
  {
   "cell_type": "code",
   "execution_count": null,
   "metadata": {
    "collapsed": true
   },
   "outputs": [],
   "source": [
    "print(test_new.shape)"
   ]
  },
  {
   "cell_type": "markdown",
   "metadata": {},
   "source": [
    "**MODEL BUILDING**"
   ]
  },
  {
   "cell_type": "code",
   "execution_count": 44,
   "metadata": {},
   "outputs": [
    {
     "name": "stdout",
     "output_type": "stream",
     "text": [
      "      cont1    cont10    cont11    cont12    cont13    cont14     cont2  \\\n",
      "0  0.545980  0.607099  0.450913  0.466652  0.600205  0.539322  0.219875   \n",
      "1  0.285565  0.364080  0.291409  0.312111  0.477123  0.265817  0.552199   \n",
      "\n",
      "      cont3     cont4     cont5     cont6     cont7     cont8     cont9  \\\n",
      "0  0.171920  0.582014  0.270074  0.541374  0.288976  0.264362  0.513632   \n",
      "1  0.465419  0.478799  0.634370  0.363891  0.362269  0.470547  0.301045   \n",
      "\n",
      "       loss  cat1_A  cat1_B  cat10_A  cat10_B  cat100_A  cat100_B  cat100_C  \\\n",
      "0  7.702637       1       0        1        0         0         1         0   \n",
      "1  7.158203       1       0        0        1         0         0         0   \n",
      "\n",
      "   cat100_D  cat100_E  cat100_F  cat100_G  cat100_H  cat100_I  cat100_J  \\\n",
      "0         0         0         0         0         0         0         0   \n",
      "1         0         0         0         0         0         0         0   \n",
      "\n",
      "   cat100_K  cat100_L  cat100_M  cat100_N  cat100_O  cat101_A  cat101_B  \\\n",
      "0         0         0         0         0         0         0         0   \n",
      "1         0         1         0         0         0         0         0   \n",
      "\n",
      "   cat101_C  cat101_D  cat101_E  cat101_F  cat101_G  cat101_H  cat101_I  \\\n",
      "0         0         0         0         0         1         0         0   \n",
      "1         0         0         0         1         0         0         0   \n",
      "\n",
      "   cat101_J  cat101_K  cat101_L  cat101_M  cat101_N  cat101_O  cat101_Q  \\\n",
      "0         0         0         0         0         0         0         0   \n",
      "1         0         0         0         0         0         0         0   \n",
      "\n",
      "   cat101_R  cat101_S  cat101_U  cat102_A  cat102_B  cat102_C  cat102_D  \\\n",
      "0         0         0         0         1         0         0         0   \n",
      "1         0         0         0         1         0         0         0   \n",
      "\n",
      "   cat102_E  cat102_F  cat102_G  cat102_H  cat102_J  cat103_A  cat103_B  \\\n",
      "0         0         0         0         0         0         1         0   \n",
      "1         0         0         0         0         0         1         0   \n",
      "\n",
      "   cat103_C  cat103_D  cat103_E  cat103_F  cat103_G  cat103_H  cat103_I  \\\n",
      "0         0         0         0         0         0         0         0   \n",
      "1         0         0         0         0         0         0         0   \n",
      "\n",
      "   cat103_J  cat103_K  cat103_L  cat103_M  cat103_N  cat104_A  cat104_B  \\\n",
      "0         0         0         0         0         0         0         0   \n",
      "1         0         0         0         0         0         0         0   \n",
      "\n",
      "   cat104_C  cat104_D  cat104_E  cat104_F  cat104_G  cat104_H  cat104_I  \\\n",
      "0         0         0         0         0         0         0         1   \n",
      "1         0         0         1         0         0         0         0   \n",
      "\n",
      "   cat104_J  cat104_K  cat104_L  cat104_M  cat104_N  cat104_O  cat104_P  \\\n",
      "0         0         0         0         0         0         0         0   \n",
      "1         0         0         0         0         0         0         0   \n",
      "\n",
      "   cat104_Q  cat105_A  cat105_B  cat105_C  cat105_D  cat105_E  cat105_F  \\\n",
      "0         0         0         0         0         0         1         0   \n",
      "1         0         0         0         0         0         1         0   \n",
      "\n",
      "   cat105_G  cat105_H  cat105_I  cat105_J  cat105_K  cat105_L  cat105_M  \\\n",
      "0         0         0         0         0         0         0         0   \n",
      "1         0         0         0         0         0         0         0   \n",
      "\n",
      "   cat105_N  cat105_O  cat105_P  cat105_Q  cat105_R  cat105_S  cat105_T  \\\n",
      "0         0         0         0         0         0         0         0   \n",
      "1         0         0         0         0         0         0         0   \n",
      "\n",
      "   cat106_A  cat106_B  cat106_C  cat106_D  cat106_E  cat106_F  cat106_G  \\\n",
      "0         0         0         0         0         0         0         1   \n",
      "1         0         0         0         0         0         0         0   \n",
      "\n",
      "   cat106_H  cat106_I  cat106_J  cat106_K  cat106_L  cat106_M  cat106_N  \\\n",
      "0         0         0         0         0         0         0         0   \n",
      "1         0         1         0         0         0         0         0   \n",
      "\n",
      "   cat106_O  cat106_P  cat106_Q  cat106_R  cat107_A  cat107_B  cat107_C  \\\n",
      "0         0         0         0         0         0         0         0   \n",
      "1         0         0         0         0         0         0         0   \n",
      "\n",
      "   cat107_D  cat107_E  cat107_F  cat107_G  cat107_H  cat107_I  cat107_J  \\\n",
      "0         0         0         0         0         0         0         1   \n",
      "1         0         0         0         0         0         0         0   \n",
      "\n",
      "   cat107_K  cat107_L  cat107_M  cat107_N  cat107_O  cat107_P  cat107_Q  \\\n",
      "0         0         0         0         0         0         0         0   \n",
      "1         1         0         0         0         0         0         0   \n",
      "\n",
      "   cat107_R  cat107_S  cat107_U  cat108_A  cat108_B  cat108_C  cat108_D  \\\n",
      "0         0         0         0         0         0         0         0   \n",
      "1         0         0         0         0         0         0         0   \n",
      "\n",
      "   cat108_E  cat108_F  cat108_G  cat108_H  cat108_I  cat108_J  cat108_K  \\\n",
      "0         0         0         1         0         0         0         0   \n",
      "1         0         0         0         0         0         0         1   \n",
      "\n",
      "   cat109_A  cat109_AA  cat109_AB  cat109_AD  cat109_AE  cat109_AF  cat109_AG  \\\n",
      "0         0          0          0          0          0          0          0   \n",
      "1         0          0          0          0          0          0          0   \n",
      "\n",
      "   cat109_AH  cat109_AI  cat109_AJ  cat109_AK  cat109_AL  cat109_AM  \\\n",
      "0          0          0          0          0          0          0   \n",
      "1          0          0          0          0          0          0   \n",
      "\n",
      "   cat109_AN  cat109_AO  cat109_AP  cat109_AQ  cat109_AR  cat109_AS  \\\n",
      "0          0          0          0          0          0          0   \n",
      "1          0          0          0          0          0          0   \n",
      "\n",
      "   cat109_AT  cat109_AU  cat109_AV  cat109_AW  cat109_AX  cat109_AY  cat109_B  \\\n",
      "0          0          0          0          0          0          0         0   \n",
      "1          0          0          0          0          0          0         0   \n",
      "\n",
      "   cat109_BA  cat109_BB  cat109_BC  cat109_BD  cat109_BE  cat109_BF  \\\n",
      "0          0          0          0          0          0          0   \n",
      "1          0          0          0          0          0          0   \n",
      "\n",
      "   cat109_BG  cat109_BH  cat109_BI  cat109_BJ  cat109_BK  cat109_BL  \\\n",
      "0          0          0          0          0          0          0   \n",
      "1          0          0          1          0          0          0   \n",
      "\n",
      "   cat109_BM  cat109_BN  cat109_BO  cat109_BP  cat109_BQ  cat109_BR  \\\n",
      "0          0          0          0          0          0          0   \n",
      "1          0          0          0          0          0          0   \n",
      "\n",
      "   cat109_BS  cat109_BT  cat109_BU  cat109_BV  cat109_BX  cat109_BY  cat109_C  \\\n",
      "0          0          0          1          0          0          0         0   \n",
      "1          0          0          0          0          0          0         0   \n",
      "\n",
      "   cat109_CA  cat109_CB  cat109_CC  cat109_CD  cat109_CE  cat109_CF  \\\n",
      "0          0          0          0          0          0          0   \n",
      "1          0          0          0          0          0          0   \n",
      "\n",
      "   cat109_CG  cat109_CH  cat109_CI  cat109_CJ  cat109_CK  cat109_CL  cat109_D  \\\n",
      "0          0          0          0          0          0          0         0   \n",
      "1          0          0          0          0          0          0         0   \n",
      "\n",
      "   cat109_E  cat109_F  cat109_G  cat109_H  cat109_I  cat109_J  cat109_K  \\\n",
      "0         0         0         0         0         0         0         0   \n",
      "1         0         0         0         0         0         0         0   \n",
      "\n",
      "   cat109_L  cat109_M  cat109_N  cat109_O  cat109_P  cat109_Q  cat109_R  \\\n",
      "0         0         0         0         0         0         0         0   \n",
      "1         0         0         0         0         0         0         0   \n",
      "\n",
      "   cat109_S  cat109_T  cat109_U  cat109_V  cat109_X  cat109_Y  cat109_ZZ  \\\n",
      "0         0         0         0         0         0         0          0   \n",
      "1         0         0         0         0         0         0          0   \n",
      "\n",
      "   cat11_A  cat11_B  cat110_A  cat110_AA  cat110_AB  cat110_AC  cat110_AD  \\\n",
      "0        0        1         0          0          0          0          0   \n",
      "1        1        0         0          0          0          0          0   \n",
      "\n",
      "   cat110_AE  cat110_AF  cat110_AG  cat110_AH  cat110_AI  cat110_AJ  \\\n",
      "0          0          0          0          0          0          0   \n",
      "1          0          0          0          0          0          0   \n",
      "\n",
      "   cat110_AK  cat110_AL  cat110_AM  cat110_AN  cat110_AO  cat110_AP  \\\n",
      "0          0          0          0          0          0          0   \n",
      "1          0          0          0          0          0          0   \n",
      "\n",
      "   cat110_AR  cat110_AS  cat110_AT  cat110_AU  cat110_AV  cat110_AW  \\\n",
      "0          0          0          0          0          0          0   \n",
      "1          0          0          0          0          0          0   \n",
      "\n",
      "   cat110_AX  cat110_AY  cat110_B  cat110_BA  cat110_BB  cat110_BC  cat110_BD  \\\n",
      "0          0          0         0          0          0          1          0   \n",
      "1          0          0         0          0          0          0          0   \n",
      "\n",
      "   cat110_BE  cat110_BF  cat110_BG  cat110_BH  cat110_BI  cat110_BJ  \\\n",
      "0          0          0          0          0          0          0   \n",
      "1          0          0          0          0          0          0   \n",
      "\n",
      "   cat110_BK  cat110_BL  cat110_BM  cat110_BN  cat110_BO  cat110_BP  \\\n",
      "0          0          0          0          0          0          0   \n",
      "1          0          0          0          0          0          0   \n",
      "\n",
      "   cat110_BQ  cat110_BR  cat110_BS  cat110_BT  cat110_BU  cat110_BV  \\\n",
      "0          0          0          0          0          0          0   \n",
      "1          0          0          0          0          0          0   \n",
      "\n",
      "   cat110_BW  cat110_BX  cat110_BY  cat110_C  cat110_CA  cat110_CB  cat110_CC  \\\n",
      "0          0          0          0         0          0          0          0   \n",
      "1          0          0          0         0          0          0          0   \n",
      "\n",
      "   cat110_CD  cat110_CF  cat110_CG  cat110_CH  cat110_CI  cat110_CJ  \\\n",
      "0          0          0          0          0          0          0   \n",
      "1          0          0          0          0          0          0   \n",
      "\n",
      "   cat110_CK  cat110_CL  cat110_CM  cat110_CN  cat110_CO  cat110_CP  \\\n",
      "0          0          0          0          0          0          0   \n",
      "1          0          0          0          0          0          0   \n",
      "\n",
      "   cat110_CQ  cat110_CR  cat110_CS  cat110_CT  cat110_CU  cat110_CV  \\\n",
      "0          0          0          0          0          0          0   \n",
      "1          1          0          0          0          0          0   \n",
      "\n",
      "   cat110_CW  cat110_CX  cat110_CY  cat110_D  cat110_DA  cat110_DB  cat110_DC  \\\n",
      "0          0          0          0         0          0          0          0   \n",
      "1          0          0          0         0          0          0          0   \n",
      "\n",
      "   cat110_DD  cat110_DE  cat110_DF  cat110_DG  cat110_DH  cat110_DI  \\\n",
      "0          0          0          0          0          0          0   \n",
      "1          0          0          0          0          0          0   \n",
      "\n",
      "   cat110_DJ  cat110_DK  cat110_DL  cat110_DM  cat110_DN  cat110_DO  \\\n",
      "0          0          0          0          0          0          0   \n",
      "1          0          0          0          0          0          0   \n",
      "\n",
      "   cat110_DP  cat110_DQ  cat110_DR  cat110_DS  cat110_DT  cat110_DU  \\\n",
      "0          0          0          0          0          0          0   \n",
      "1          0          0          0          0          0          0   \n",
      "\n",
      "   cat110_DV  cat110_DW  cat110_DX  cat110_DY  cat110_E  cat110_EA  cat110_EB  \\\n",
      "0          0          0          0          0         0          0          0   \n",
      "1          0          0          0          0         0          0          0   \n",
      "\n",
      "   cat110_ED  cat110_EE  cat110_EF  cat110_EG  cat110_EH  cat110_EI  \\\n",
      "0          0          0          0          0          0          0   \n",
      "1          0          0          0          0          0          0   \n",
      "\n",
      "   cat110_EJ  cat110_EK  cat110_EL  cat110_EM  cat110_EN  cat110_G  cat110_H  \\\n",
      "0          0          0          0          0          0         0         0   \n",
      "1          0          0          0          0          0         0         0   \n",
      "\n",
      "   cat110_I  cat110_J  cat110_K  cat110_L  cat110_N  cat110_O  cat110_P  \\\n",
      "0         0         0         0         0         0         0         0   \n",
      "1         0         0         0         0         0         0         0   \n",
      "\n",
      "   cat110_Q  cat110_R  cat110_S  cat110_T  cat110_U  cat110_V  cat110_W  \\\n",
      "0         0         0         0         0         0         0         0   \n",
      "1         0         0         0         0         0         0         0   \n",
      "\n",
      "   cat110_X  cat110_Y  cat111_A  cat111_B  cat111_C  cat111_D  cat111_E  \\\n",
      "0         0         0         0         0         1         0         0   \n",
      "1         0         0         1         0         0         0         0   \n",
      "\n",
      "   cat111_F  cat111_G  cat111_I  cat111_K  cat111_L  cat111_M  cat111_O  \\\n",
      "0         0         0         0         0         0         0         0   \n",
      "1         0         0         0         0         0         0         0   \n",
      "\n",
      "   cat111_Q  cat111_S  cat111_U  cat111_W  cat111_Y  cat112_A  cat112_AA  \\\n",
      "0         0         0         0         0         0         0          0   \n",
      "1         0         0         0         0         0         0          0   \n",
      "\n",
      "   cat112_AB  cat112_AC  cat112_AD  cat112_AE  cat112_AF  cat112_AG  \\\n",
      "0          0          0          0          0          0          0   \n",
      "1          0          0          0          0          0          0   \n",
      "\n",
      "   cat112_AH  cat112_AI  cat112_AJ  cat112_AK  cat112_AL  cat112_AM  \\\n",
      "0          0          0          0          0          0          0   \n",
      "1          0          0          0          0          0          0   \n",
      "\n",
      "   cat112_AN  cat112_AO  cat112_AP  cat112_AQ  cat112_AR  cat112_AS  \\\n",
      "0          0          0          0          0          0          1   \n",
      "1          0          0          0          0          0          0   \n",
      "\n",
      "   cat112_AT  cat112_AU  cat112_AV  cat112_AW  cat112_AX  cat112_AY  cat112_B  \\\n",
      "0          0          0          0          0          0          0         0   \n",
      "1          0          0          1          0          0          0         0   \n",
      "\n",
      "   cat112_BA  cat112_C  cat112_D  cat112_E  cat112_F  cat112_G  cat112_H  \\\n",
      "0          0         0         0         0         0         0         0   \n",
      "1          0         0         0         0         0         0         0   \n",
      "\n",
      "   cat112_I  cat112_J  cat112_K  cat112_L  cat112_M  cat112_N  cat112_O  \\\n",
      "0         0         0         0         0         0         0         0   \n",
      "1         0         0         0         0         0         0         0   \n",
      "\n",
      "   cat112_P  cat112_Q  cat112_R  cat112_S  cat112_T  cat112_U  cat112_V  \\\n",
      "0         0         0         0         0         0         0         0   \n",
      "1         0         0         0         0         0         0         0   \n",
      "\n",
      "   cat112_W  cat112_X  cat112_Y  cat113_A  cat113_AA  cat113_AB  cat113_AC  \\\n",
      "0         0         0         0         0          0          0          0   \n",
      "1         0         0         0         0          0          0          0   \n",
      "\n",
      "   cat113_AD  cat113_AE  cat113_AF  cat113_AG  cat113_AH  cat113_AI  \\\n",
      "0          0          0          0          0          0          0   \n",
      "1          0          0          0          0          0          0   \n",
      "\n",
      "   cat113_AJ  cat113_AK  cat113_AL  cat113_AM  cat113_AN  cat113_AO  \\\n",
      "0          0          0          0          0          0          0   \n",
      "1          0          0          0          0          0          0   \n",
      "\n",
      "   cat113_AP  cat113_AQ  cat113_AR  cat113_AS  cat113_AT  cat113_AU  \\\n",
      "0          0          0          0          0          0          0   \n",
      "1          0          0          0          0          0          0   \n",
      "\n",
      "   cat113_AV  cat113_AW  cat113_AX  cat113_AY  cat113_B  cat113_BA  cat113_BB  \\\n",
      "0          0          0          0          0         0          0          0   \n",
      "1          0          0          0          0         0          0          0   \n",
      "\n",
      "   cat113_BC  cat113_BD  cat113_BE  cat113_BF  cat113_BG  cat113_BH  \\\n",
      "0          0          0          0          0          0          0   \n",
      "1          0          0          0          0          0          0   \n",
      "\n",
      "   cat113_BI  cat113_BJ  cat113_BK  cat113_BL  cat113_BM  cat113_BN  \\\n",
      "0          0          0          0          0          0          0   \n",
      "1          0          0          0          0          1          0   \n",
      "\n",
      "   cat113_BO  cat113_C  cat113_E  cat113_F  cat113_G  cat113_H  cat113_I  \\\n",
      "0          0         0         0         0         0         0         0   \n",
      "1          0         0         0         0         0         0         0   \n",
      "\n",
      "   cat113_J  cat113_K  cat113_L  cat113_M  cat113_N  cat113_O  cat113_P  \\\n",
      "0         0         0         0         0         0         0         0   \n",
      "1         0         0         0         0         0         0         0   \n",
      "\n",
      "   cat113_Q  cat113_R  cat113_S  cat113_T  cat113_U  cat113_V  cat113_X  \\\n",
      "0         0         0         1         0         0         0         0   \n",
      "1         0         0         0         0         0         0         0   \n",
      "\n",
      "   cat113_Y  cat114_A  cat114_B  cat114_C  cat114_D  cat114_E  cat114_F  \\\n",
      "0         0         1         0         0         0         0         0   \n",
      "1         0         1         0         0         0         0         0   \n",
      "\n",
      "   cat114_G  cat114_I  cat114_J  cat114_L  cat114_N  cat114_O  cat114_Q  \\\n",
      "0         0         0         0         0         0         0         0   \n",
      "1         0         0         0         0         0         0         0   \n",
      "\n",
      "   cat114_R  cat114_S  cat114_U  cat114_V  cat114_W  cat114_X  cat115_A  \\\n",
      "0         0         0         0         0         0         0         0   \n",
      "1         0         0         0         0         0         0         0   \n",
      "\n",
      "   cat115_B  cat115_C  cat115_D  cat115_E  cat115_F  cat115_G  cat115_H  \\\n",
      "0         0         0         0         0         0         0         0   \n",
      "1         0         0         0         0         0         0         0   \n",
      "\n",
      "   cat115_I  cat115_J  cat115_K  cat115_L  cat115_M  cat115_N  cat115_O  \\\n",
      "0         0         0         0         0         0         0         1   \n",
      "1         0         0         0         0         0         0         1   \n",
      "\n",
      "   cat115_P  cat115_Q  cat115_R  cat115_S  cat115_T  cat115_U  cat115_W  \\\n",
      "0         0         0         0         0         0         0         0   \n",
      "1         0         0         0         0         0         0         0   \n",
      "\n",
      "   cat115_X  cat116_A  cat116_AA  cat116_AB  cat116_AC  cat116_AD  cat116_AE  \\\n",
      "0         0         0          0          0          0          0          0   \n",
      "1         0         0          0          0          0          0          0   \n",
      "\n",
      "   cat116_AF  cat116_AG  cat116_AH  cat116_AI  cat116_AJ  cat116_AK  \\\n",
      "0          0          0          0          0          0          0   \n",
      "1          0          0          0          0          0          0   \n",
      "\n",
      "   cat116_AL  cat116_AM  cat116_AN  cat116_AO  cat116_AP  cat116_AQ  \\\n",
      "0          0          0          0          0          0          0   \n",
      "1          0          0          0          0          0          0   \n",
      "\n",
      "   cat116_AR  cat116_AS  cat116_AT  cat116_AU  cat116_AV  cat116_AW  \\\n",
      "0          0          0          0          0          0          0   \n",
      "1          0          0          0          0          0          0   \n",
      "\n",
      "   cat116_AX  cat116_AY  cat116_B  cat116_BA  cat116_BB  cat116_BC  cat116_BD  \\\n",
      "0          0          0         0          0          0          0          0   \n",
      "1          0          0         0          0          0          0          0   \n",
      "\n",
      "   cat116_BE  cat116_BF  cat116_BG  cat116_BH  cat116_BI  cat116_BJ  \\\n",
      "0          0          0          0          0          0          0   \n",
      "1          0          0          0          0          0          0   \n",
      "\n",
      "   cat116_BK  cat116_BL  cat116_BM  cat116_BN  cat116_BO  cat116_BP  \\\n",
      "0          0          0          0          0          0          0   \n",
      "1          0          0          0          0          0          0   \n",
      "\n",
      "   cat116_BQ  cat116_BR  cat116_BS  cat116_BT  cat116_BU  cat116_BV  \\\n",
      "0          0          0          0          0          0          0   \n",
      "1          0          0          0          0          0          0   \n",
      "\n",
      "   cat116_BW  cat116_BX  cat116_BY  cat116_C  cat116_CA  cat116_CB  cat116_CC  \\\n",
      "0          0          0          0         0          0          0          0   \n",
      "1          0          0          0         0          0          0          0   \n",
      "\n",
      "   cat116_CD  cat116_CE  cat116_CF  cat116_CG  cat116_CH  cat116_CI  \\\n",
      "0          0          0          0          0          0          0   \n",
      "1          0          0          0          0          0          0   \n",
      "\n",
      "   cat116_CJ  cat116_CK  cat116_CL  cat116_CM  cat116_CN  cat116_CO  \\\n",
      "0          0          0          0          0          0          0   \n",
      "1          0          0          0          0          0          0   \n",
      "\n",
      "   cat116_CP  cat116_CQ  cat116_CR  cat116_CS  cat116_CT  cat116_CU  \\\n",
      "0          0          0          0          0          0          0   \n",
      "1          0          0          0          0          0          0   \n",
      "\n",
      "   cat116_CV  cat116_CW  cat116_CX  cat116_CY  cat116_D  cat116_DA  cat116_DB  \\\n",
      "0          0          0          0          0         0          0          0   \n",
      "1          0          0          0          0         0          0          0   \n",
      "\n",
      "   cat116_DC  cat116_DD  cat116_DE  cat116_DF  cat116_DG  cat116_DH  \\\n",
      "0          0          0          0          0          0          0   \n",
      "1          0          0          0          0          0          0   \n",
      "\n",
      "   cat116_DI  cat116_DJ  cat116_DK  cat116_DL  cat116_DM  cat116_DN  \\\n",
      "0          0          0          0          0          0          0   \n",
      "1          0          0          0          0          0          0   \n",
      "\n",
      "   cat116_DO  cat116_DP  cat116_DQ  cat116_DR  cat116_DS  cat116_DT  \\\n",
      "0          0          0          0          0          0          0   \n",
      "1          0          1          0          0          0          0   \n",
      "\n",
      "   cat116_DU  cat116_DV  cat116_DW  cat116_DX  cat116_DY  cat116_E  cat116_EA  \\\n",
      "0          0          0          0          0          0         0          0   \n",
      "1          0          0          0          0          0         0          0   \n",
      "\n",
      "   cat116_EB  cat116_EC  cat116_ED  cat116_EE  cat116_EF  cat116_EG  \\\n",
      "0          0          0          0          0          0          0   \n",
      "1          0          0          0          0          0          0   \n",
      "\n",
      "   cat116_EH  cat116_EI  cat116_EJ  cat116_EK  cat116_EL  cat116_EM  \\\n",
      "0          0          0          0          0          0          0   \n",
      "1          0          0          0          0          0          0   \n",
      "\n",
      "   cat116_EN  cat116_EO  cat116_EP  cat116_EQ  cat116_ER  cat116_ES  \\\n",
      "0          0          0          0          0          0          0   \n",
      "1          0          0          0          0          0          0   \n",
      "\n",
      "   cat116_ET  cat116_EU  cat116_EV  cat116_EW  cat116_EX  cat116_EY  cat116_F  \\\n",
      "0          0          0          0          0          0          0         0   \n",
      "1          0          0          0          0          0          0         0   \n",
      "\n",
      "   cat116_FA  cat116_FB  cat116_FC  cat116_FD  cat116_FE  cat116_FF  \\\n",
      "0          0          0          0          0          0          0   \n",
      "1          0          0          0          0          0          0   \n",
      "\n",
      "   cat116_FG  cat116_FH  cat116_FI  cat116_FJ  cat116_FK  cat116_FL  \\\n",
      "0          0          0          0          0          0          0   \n",
      "1          0          0          0          0          0          0   \n",
      "\n",
      "   cat116_FM  cat116_FN  cat116_FO  cat116_FP  cat116_FQ  cat116_FR  \\\n",
      "0          0          0          0          0          0          0   \n",
      "1          0          0          0          0          0          0   \n",
      "\n",
      "   cat116_FS  cat116_FT  cat116_FU  cat116_FV  cat116_FW  cat116_FX  \\\n",
      "0          0          0          0          0          0          0   \n",
      "1          0          0          0          0          0          0   \n",
      "\n",
      "   cat116_FY  cat116_G  cat116_GA  cat116_GB  cat116_GC  cat116_GD  cat116_GE  \\\n",
      "0          0         0          0          0          0          0          0   \n",
      "1          0         0          0          0          0          0          0   \n",
      "\n",
      "   cat116_GF  cat116_GG  cat116_GH  cat116_GI  cat116_GJ  cat116_GK  \\\n",
      "0          0          0          0          0          0          0   \n",
      "1          0          0          0          0          0          0   \n",
      "\n",
      "   cat116_GL  cat116_GM  cat116_GN  cat116_GO  cat116_GP  cat116_GQ  \\\n",
      "0          0          0          0          0          0          0   \n",
      "1          0          0          0          0          0          0   \n",
      "\n",
      "   cat116_GR  cat116_GS  cat116_GT  cat116_GU  cat116_GV  cat116_GW  \\\n",
      "0          0          0          0          0          0          0   \n",
      "1          0          0          0          0          0          0   \n",
      "\n",
      "   cat116_GX  cat116_GY  cat116_H  cat116_HA  cat116_HB  cat116_HC  cat116_HD  \\\n",
      "0          0          0         0          0          0          0          0   \n",
      "1          0          0         0          0          0          0          0   \n",
      "\n",
      "   cat116_HE  cat116_HF  cat116_HG  cat116_HH  cat116_HI  cat116_HJ  \\\n",
      "0          0          0          0          0          0          0   \n",
      "1          0          0          0          0          0          0   \n",
      "\n",
      "   cat116_HK  cat116_HL  cat116_HM  cat116_HN  cat116_HO  cat116_HP  \\\n",
      "0          0          0          0          0          0          0   \n",
      "1          0          0          0          0          0          0   \n",
      "\n",
      "   cat116_HQ  cat116_HR  cat116_HS  cat116_HT  cat116_HU  cat116_HV  \\\n",
      "0          0          0          0          0          0          0   \n",
      "1          0          0          0          0          0          0   \n",
      "\n",
      "   cat116_HW  cat116_HX  cat116_HY  cat116_I  cat116_IA  cat116_IB  cat116_IC  \\\n",
      "0          0          0          0         0          0          0          0   \n",
      "1          0          0          0         0          0          0          0   \n",
      "\n",
      "   cat116_ID  cat116_IE  cat116_IF  cat116_IG  cat116_IH  cat116_II  \\\n",
      "0          0          0          0          0          0          0   \n",
      "1          0          0          0          0          0          0   \n",
      "\n",
      "   cat116_IJ  cat116_IK  cat116_IL  cat116_IM  cat116_IN  cat116_IO  \\\n",
      "0          0          0          0          0          0          0   \n",
      "1          0          0          0          0          0          0   \n",
      "\n",
      "   cat116_IP  cat116_IQ  cat116_IR  cat116_IS  cat116_IT  cat116_IU  \\\n",
      "0          0          0          0          0          0          0   \n",
      "1          0          0          0          0          0          0   \n",
      "\n",
      "   cat116_IV  cat116_IW  cat116_IX  cat116_IY  cat116_J  cat116_JA  cat116_JB  \\\n",
      "0          0          0          0          0         0          0          0   \n",
      "1          0          0          0          0         0          0          0   \n",
      "\n",
      "   cat116_JC  cat116_JD  cat116_JE  cat116_JF  cat116_JG  cat116_JH  \\\n",
      "0          0          0          0          0          0          0   \n",
      "1          0          0          0          0          0          0   \n",
      "\n",
      "   cat116_JI  cat116_JJ  cat116_JK  cat116_JL  cat116_JM  cat116_JN  \\\n",
      "0          0          0          0          0          0          0   \n",
      "1          0          0          0          0          0          0   \n",
      "\n",
      "   cat116_JO  cat116_JP  cat116_JQ  cat116_JR  cat116_JS  cat116_JT  \\\n",
      "0          0          0          0          0          0          0   \n",
      "1          0          0          0          0          0          0   \n",
      "\n",
      "   cat116_JU  cat116_JV  cat116_JW  cat116_JX  cat116_JY  cat116_K  cat116_KA  \\\n",
      "0          0          0          0          0          0         0          0   \n",
      "1          0          0          0          0          0         0          0   \n",
      "\n",
      "   cat116_KB  cat116_KC  cat116_KD  cat116_KE  cat116_KF  cat116_KG  \\\n",
      "0          0          0          0          0          0          0   \n",
      "1          0          0          0          0          0          0   \n",
      "\n",
      "   cat116_KH  cat116_KI  cat116_KJ  cat116_KK  cat116_KL  cat116_KM  \\\n",
      "0          0          0          0          0          0          0   \n",
      "1          0          0          0          0          0          0   \n",
      "\n",
      "   cat116_KN  cat116_KO  cat116_KP  cat116_KQ  cat116_KR  cat116_KS  \\\n",
      "0          0          0          0          0          0          0   \n",
      "1          0          0          0          0          0          0   \n",
      "\n",
      "   cat116_KT  cat116_KU  cat116_KV  cat116_KW  cat116_KX  cat116_KY  cat116_L  \\\n",
      "0          0          0          0          0          0          0         0   \n",
      "1          0          0          0          0          0          0         0   \n",
      "\n",
      "   cat116_LA  cat116_LB  cat116_LC  cat116_LD  cat116_LE  cat116_LF  \\\n",
      "0          0          1          0          0          0          0   \n",
      "1          0          0          0          0          0          0   \n",
      "\n",
      "   cat116_LG  cat116_LH  cat116_LI  cat116_LJ  cat116_LK  cat116_LL  \\\n",
      "0          0          0          0          0          0          0   \n",
      "1          0          0          0          0          0          0   \n",
      "\n",
      "   cat116_LM  cat116_LN  cat116_LO  cat116_LP  cat116_LQ  cat116_LR  \\\n",
      "0          0          0          0          0          0          0   \n",
      "1          0          0          0          0          0          0   \n",
      "\n",
      "   cat116_LS  cat116_LT  cat116_LU  cat116_LV  cat116_LW  cat116_LX  \\\n",
      "0          0          0          0          0          0          0   \n",
      "1          0          0          0          0          0          0   \n",
      "\n",
      "   cat116_LY  cat116_M  cat116_MA  cat116_MB  cat116_MC  cat116_MD  cat116_ME  \\\n",
      "0          0         0          0          0          0          0          0   \n",
      "1          0         0          0          0          0          0          0   \n",
      "\n",
      "   cat116_MF  cat116_MG  cat116_MH  cat116_MI  cat116_MJ  cat116_MK  \\\n",
      "0          0          0          0          0          0          0   \n",
      "1          0          0          0          0          0          0   \n",
      "\n",
      "   cat116_ML  cat116_MM  cat116_MN  cat116_MO  cat116_MP  cat116_MQ  \\\n",
      "0          0          0          0          0          0          0   \n",
      "1          0          0          0          0          0          0   \n",
      "\n",
      "   cat116_MR  cat116_MS  cat116_MT  cat116_MU  cat116_MV  cat116_MW  \\\n",
      "0          0          0          0          0          0          0   \n",
      "1          0          0          0          0          0          0   \n",
      "\n",
      "   cat116_MX  cat116_N  cat116_O  cat116_P  cat116_Q  cat116_R  cat116_S  \\\n",
      "0          0         0         0         0         0         0         0   \n",
      "1          0         0         0         0         0         0         0   \n",
      "\n",
      "   cat116_T  cat116_U  cat116_V  cat116_W  cat116_X  cat116_Y  cat12_A  \\\n",
      "0         0         0         0         0         0         0        1   \n",
      "1         0         0         0         0         0         0        1   \n",
      "\n",
      "   cat12_B  cat13_A  cat13_B  cat14_A  cat14_B  cat15_A  cat15_B  cat16_A  \\\n",
      "0        0        1        0        1        0        1        0        1   \n",
      "1        0        1        0        1        0        1        0        1   \n",
      "\n",
      "   cat16_B  cat17_A  cat17_B  cat18_A  cat18_B  cat19_A  cat19_B  cat2_A  \\\n",
      "0        0        1        0        1        0        1        0       0   \n",
      "1        0        1        0        1        0        1        0       0   \n",
      "\n",
      "   cat2_B  cat20_A  cat20_B  cat21_A  cat21_B  cat22_A  cat22_B  cat23_A  \\\n",
      "0       1        1        0        1        0        1        0        0   \n",
      "1       1        1        0        1        0        1        0        1   \n",
      "\n",
      "   cat23_B  cat24_A  cat24_B  cat25_A  cat25_B  cat26_A  cat26_B  cat27_A  \\\n",
      "0        1        1        0        1        0        1        0        1   \n",
      "1        0        1        0        1        0        1        0        1   \n",
      "\n",
      "   cat27_B  cat28_A  cat28_B  cat29_A  cat29_B  cat3_A  cat3_B  cat30_A  \\\n",
      "0        0        1        0        1        0       1       0        1   \n",
      "1        0        1        0        1        0       1       0        1   \n",
      "\n",
      "   cat30_B  cat31_A  cat31_B  cat32_A  cat32_B  cat33_A  cat33_B  cat34_A  \\\n",
      "0        0        1        0        1        0        1        0        1   \n",
      "1        0        1        0        1        0        1        0        1   \n",
      "\n",
      "   cat34_B  cat35_A  cat35_B  cat36_A  cat36_B  cat37_A  cat37_B  cat38_A  \\\n",
      "0        0        1        0        1        0        1        0        1   \n",
      "1        0        1        0        1        0        1        0        1   \n",
      "\n",
      "   cat38_B  cat39_A  cat39_B  cat4_A  cat4_B  cat40_A  cat40_B  cat41_A  \\\n",
      "0        0        1        0       0       1        1        0        1   \n",
      "1        0        1        0       1       0        1        0        1   \n",
      "\n",
      "   cat41_B  cat42_A  cat42_B  cat43_A  cat43_B  cat44_A  cat44_B  cat45_A  \\\n",
      "0        0        1        0        1        0        1        0        1   \n",
      "1        0        1        0        1        0        1        0        1   \n",
      "\n",
      "   cat45_B  cat46_A  cat46_B  cat47_A  cat47_B  cat48_A  cat48_B  cat49_A  \\\n",
      "0        0        1        0        1        0        1        0        1   \n",
      "1        0        1        0        1        0        1        0        1   \n",
      "\n",
      "   cat49_B  cat5_A  cat5_B  cat50_A  cat50_B  cat51_A  cat51_B  cat52_A  \\\n",
      "0        0       1       0        1        0        1        0        1   \n",
      "1        0       1       0        1        0        1        0        1   \n",
      "\n",
      "   cat52_B  cat53_A  cat53_B  cat54_A  cat54_B  cat55_A  cat55_B  cat56_A  \\\n",
      "0        0        1        0        1        0        1        0        1   \n",
      "1        0        1        0        1        0        1        0        1   \n",
      "\n",
      "   cat56_B  cat57_A  cat57_B  cat58_A  cat58_B  cat59_A  cat59_B  cat6_A  \\\n",
      "0        0        1        0        1        0        1        0       1   \n",
      "1        0        1        0        1        0        1        0       1   \n",
      "\n",
      "   cat6_B  cat60_A  cat60_B  cat61_A  cat61_B  cat62_A  cat62_B  cat63_A  \\\n",
      "0       0        1        0        1        0        1        0        1   \n",
      "1       0        1        0        1        0        1        0        1   \n",
      "\n",
      "   cat63_B  cat64_A  cat64_B  cat65_A  cat65_B  cat66_A  cat66_B  cat67_A  \\\n",
      "0        0        1        0        1        0        1        0        1   \n",
      "1        0        1        0        1        0        1        0        1   \n",
      "\n",
      "   cat67_B  cat68_A  cat68_B  cat69_A  cat69_B  cat7_A  cat7_B  cat70_A  \\\n",
      "0        0        1        0        1        0       1       0        1   \n",
      "1        0        1        0        1        0       1       0        1   \n",
      "\n",
      "   cat70_B  cat71_A  cat71_B  cat72_A  cat72_B  cat73_A  cat73_B  cat73_C  \\\n",
      "0        0        1        0        1        0        1        0        0   \n",
      "1        0        1        0        1        0        1        0        0   \n",
      "\n",
      "   cat74_A  cat74_B  cat74_C  cat75_A  cat75_B  cat75_C  cat76_A  cat76_B  \\\n",
      "0        1        0        0        0        1        0        1        0   \n",
      "1        1        0        0        1        0        0        1        0   \n",
      "\n",
      "   cat76_C  cat77_A  cat77_B  cat77_C  cat77_D  cat78_A  cat78_B  cat78_C  \\\n",
      "0        0        0        0        0        1        0        1        0   \n",
      "1        0        0        0        0        1        0        1        0   \n",
      "\n",
      "   cat78_D  cat79_A  cat79_B  cat79_C  cat79_D  cat8_A  cat8_B  cat80_A  \\\n",
      "0        0        0        1        0        0       1       0        0   \n",
      "1        0        0        1        0        0       1       0        0   \n",
      "\n",
      "   cat80_B  cat80_C  cat80_D  cat81_A  cat81_B  cat81_C  cat81_D  cat82_A  \\\n",
      "0        0        0        1        0        0        0        1        0   \n",
      "1        0        0        1        0        0        0        1        1   \n",
      "\n",
      "   cat82_B  cat82_C  cat82_D  cat83_A  cat83_B  cat83_C  cat83_D  cat84_A  \\\n",
      "0        1        0        0        0        0        0        1        0   \n",
      "1        0        0        0        0        1        0        0        0   \n",
      "\n",
      "   cat84_B  cat84_C  cat84_D  cat85_A  cat85_B  cat85_C  cat85_D  cat86_A  \\\n",
      "0        0        1        0        0        1        0        0        0   \n",
      "1        0        1        0        0        1        0        0        0   \n",
      "\n",
      "   cat86_B  cat86_C  cat86_D  cat87_A  cat87_B  cat87_C  cat87_D  cat88_A  \\\n",
      "0        0        0        1        0        1        0        0        1   \n",
      "1        0        0        1        0        1        0        0        1   \n",
      "\n",
      "   cat88_B  cat88_D  cat88_E  cat89_A  cat89_B  cat89_C  cat89_D  cat89_E  \\\n",
      "0        0        0        0        1        0        0        0        0   \n",
      "1        0        0        0        1        0        0        0        0   \n",
      "\n",
      "   cat89_F  cat89_G  cat89_H  cat89_I  cat9_A  cat9_B  cat90_A  cat90_B  \\\n",
      "0        0        0        0        0       0       1        1        0   \n",
      "1        0        0        0        0       0       1        1        0   \n",
      "\n",
      "   cat90_C  cat90_D  cat90_E  cat90_F  cat90_G  cat91_A  cat91_B  cat91_C  \\\n",
      "0        0        0        0        0        0        1        0        0   \n",
      "1        0        0        0        0        0        1        0        0   \n",
      "\n",
      "   cat91_D  cat91_E  cat91_F  cat91_G  cat91_H  cat92_A  cat92_B  cat92_C  \\\n",
      "0        0        0        0        0        0        1        0        0   \n",
      "1        0        0        0        0        0        1        0        0   \n",
      "\n",
      "   cat92_D  cat92_E  cat92_F  cat92_G  cat92_H  cat92_I  cat93_A  cat93_B  \\\n",
      "0        0        0        0        0        0        0        0        0   \n",
      "1        0        0        0        0        0        0        0        0   \n",
      "\n",
      "   cat93_C  cat93_D  cat93_E  cat94_A  cat94_B  cat94_C  cat94_D  cat94_E  \\\n",
      "0        0        1        0        0        1        0        0        0   \n",
      "1        0        1        0        0        0        0        1        0   \n",
      "\n",
      "   cat94_F  cat94_G  cat95_A  cat95_B  cat95_C  cat95_D  cat95_E  cat96_A  \\\n",
      "0        0        0        0        0        1        0        0        0   \n",
      "1        0        0        0        0        1        0        0        0   \n",
      "\n",
      "   cat96_B  cat96_C  cat96_D  cat96_E  cat96_F  cat96_G  cat96_H  cat96_I  \\\n",
      "0        0        0        0        1        0        0        0        0   \n",
      "1        0        0        0        1        0        0        0        0   \n",
      "\n",
      "   cat97_A  cat97_B  cat97_C  cat97_D  cat97_E  cat97_F  cat97_G  cat98_A  \\\n",
      "0        1        0        0        0        0        0        0        0   \n",
      "1        0        0        0        0        1        0        0        0   \n",
      "\n",
      "   cat98_B  cat98_C  cat98_D  cat98_E  cat99_C  cat99_D  cat99_E  cat99_F  \\\n",
      "0        0        1        0        0        0        0        0        0   \n",
      "1        0        0        1        0        0        0        0        0   \n",
      "\n",
      "   cat99_G  cat99_H  cat99_I  cat99_J  cat99_K  cat99_M  cat99_N  cat99_O  \\\n",
      "0        0        0        0        0        0        0        0        0   \n",
      "1        0        0        0        0        0        0        0        0   \n",
      "\n",
      "   cat99_P  cat99_R  cat99_S  cat99_T  cat99_U  \n",
      "0        0        0        0        1        0  \n",
      "1        0        0        0        1        0  \n",
      "(313864, 1191)\n"
     ]
    }
   ],
   "source": [
    "# Creating dummy variables for the categorical features for further analysis\n",
    "complete = pd.get_dummies(complete.iloc[:,:])\n",
    "print(complete.head(2))\n",
    "print(complete.shape)"
   ]
  },
  {
   "cell_type": "code",
   "execution_count": 45,
   "metadata": {},
   "outputs": [
    {
     "name": "stdout",
     "output_type": "stream",
     "text": [
      "(188318, 1191)\n",
      "(125546, 1191)\n"
     ]
    }
   ],
   "source": [
    "#188318, 132\n",
    "train_new = complete.iloc[:188318,:]\n",
    "print(train_new.shape)\n",
    "test_new = complete.iloc[188318:,:]\n",
    "print(test_new.shape)\n"
   ]
  },
  {
   "cell_type": "code",
   "execution_count": 46,
   "metadata": {},
   "outputs": [
    {
     "data": {
      "text/plain": [
       "125546"
      ]
     },
     "execution_count": 46,
     "metadata": {},
     "output_type": "execute_result"
    }
   ],
   "source": [
    "sum(np.isnan(test_new['loss']))"
   ]
  },
  {
   "cell_type": "code",
   "execution_count": 47,
   "metadata": {},
   "outputs": [
    {
     "name": "stdout",
     "output_type": "stream",
     "text": [
      "(125546, 1190)\n"
     ]
    }
   ],
   "source": [
    "test_new = test_new.drop('loss', axis = 1)\n",
    "print(test_new.shape)"
   ]
  },
  {
   "cell_type": "code",
   "execution_count": 48,
   "metadata": {},
   "outputs": [
    {
     "name": "stdout",
     "output_type": "stream",
     "text": [
      "<class 'numpy.ndarray'>\n"
     ]
    }
   ],
   "source": [
    "#Separating predictor and target features\n",
    "from sklearn.model_selection import train_test_split\n",
    "\n",
    "y = train_new['loss']\n",
    "y = y.reshape(train_new.shape[0], 1)\n",
    "print(type(y))\n",
    "X = train_new.drop(['loss'], axis = 1)\n",
    "X= X.as_matrix()\n",
    "X_train, X_val, y_train, y_val = train_test_split(X, y, test_size = 0.1, random_state = 20)\n"
   ]
  },
  {
   "cell_type": "code",
   "execution_count": 49,
   "metadata": {},
   "outputs": [
    {
     "name": "stdout",
     "output_type": "stream",
     "text": [
      "(169486, 1190)\n",
      "(18832, 1190)\n",
      "(169486, 1)\n"
     ]
    },
    {
     "data": {
      "text/plain": [
       "(18832, 1)"
      ]
     },
     "execution_count": 49,
     "metadata": {},
     "output_type": "execute_result"
    }
   ],
   "source": [
    "print(X_train.shape)\n",
    "print(X_val.shape)\n",
    "print(y_train.shape)\n",
    "y_val.shape"
   ]
  },
  {
   "cell_type": "markdown",
   "metadata": {},
   "source": [
    "**LASSO** for **feature selection**"
   ]
  },
  {
   "cell_type": "code",
   "execution_count": 50,
   "metadata": {
    "collapsed": true
   },
   "outputs": [],
   "source": [
    "from sklearn.metrics import mean_absolute_error as mae, r2_score as rs\n",
    "from sklearn.model_selection import GridSearchCV, cross_val_score\n",
    "from sklearn.linear_model import LinearRegression,Lasso,Ridge,ElasticNet\n",
    "from sklearn.tree import DecisionTreeRegressor\n",
    "from sklearn.ensemble import RandomForestRegressor\n"
   ]
  },
  {
   "cell_type": "code",
   "execution_count": 51,
   "metadata": {
    "collapsed": true
   },
   "outputs": [],
   "source": [
    "lasso1 = Lasso(alpha = 0.001, random_state = 20)\n",
    "lasso1.fit(X_train,y_train)\n",
    "lasso_coeff = lasso1.coef_                   #Finding the important coefficients.\n",
    "index = []\n",
    "for i,val in enumerate(lasso_coeff):\n",
    "    if val!=0:\n",
    "        index.append(i)"
   ]
  },
  {
   "cell_type": "code",
   "execution_count": 52,
   "metadata": {},
   "outputs": [
    {
     "name": "stdout",
     "output_type": "stream",
     "text": [
      "(169486, 143)\n",
      "[[ 0.23960413  0.26000841  0.11961159  0.36508885  0.23722553  0.30331573\n",
      "   1.          0.          1.          0.          0.          0.          0.\n",
      "   1.          0.          0.          0.          0.          0.          0.\n",
      "   0.          0.          1.          1.          1.          0.          0.\n",
      "   0.          0.          0.          0.          0.          0.          0.\n",
      "   0.          0.          1.          0.          0.          0.          0.\n",
      "   0.          1.          0.          0.          0.          1.          0.\n",
      "   0.          0.          0.          0.          0.          0.          0.\n",
      "   0.          0.          0.          1.          0.          0.          0.\n",
      "   0.          0.          1.          0.          0.          0.          0.\n",
      "   0.          1.          0.          1.          0.          0.          1.\n",
      "   0.          1.          1.          1.          0.          1.          0.\n",
      "   1.          0.          1.          1.          1.          1.          1.\n",
      "   0.          1.          0.          0.          1.          0.          1.\n",
      "   1.          1.          0.          1.          0.          1.          0.\n",
      "   1.          0.          1.          1.          1.          0.          1.\n",
      "   0.          0.          0.          0.          0.          0.          0.\n",
      "   1.          0.          1.          0.          1.          0.          0.\n",
      "   0.          1.          0.          1.          0.          1.          1.\n",
      "   0.          1.          0.          1.          0.          0.          0.\n",
      "   0.          0.          0.          0.        ]\n",
      " [ 0.18621978  0.17783735  0.44197831  0.43810653  0.38743826  0.23063145\n",
      "   1.          0.          1.          0.          0.          0.          1.\n",
      "   0.          0.          0.          0.          0.          0.          0.\n",
      "   0.          0.          0.          1.          1.          0.          0.\n",
      "   0.          0.          0.          0.          0.          0.          0.\n",
      "   0.          1.          1.          0.          0.          0.          0.\n",
      "   1.          0.          0.          0.          1.          0.          0.\n",
      "   0.          0.          0.          0.          0.          0.          0.\n",
      "   0.          0.          0.          0.          0.          1.          0.\n",
      "   0.          0.          1.          0.          0.          0.          0.\n",
      "   1.          0.          1.          1.          0.          0.          1.\n",
      "   1.          0.          1.          1.          0.          1.          0.\n",
      "   1.          0.          1.          1.          1.          1.          1.\n",
      "   0.          1.          0.          1.          1.          0.          1.\n",
      "   1.          1.          0.          1.          0.          1.          0.\n",
      "   1.          0.          1.          1.          1.          0.          1.\n",
      "   0.          0.          0.          1.          0.          1.          0.\n",
      "   1.          0.          1.          0.          1.          0.          0.\n",
      "   0.          1.          0.          0.          0.          1.          1.\n",
      "   0.          1.          0.          1.          0.          0.          0.\n",
      "   0.          0.          0.          0.        ]]\n"
     ]
    }
   ],
   "source": [
    "X_train = X_train[:,index]                    #Selecting only important features in the train set\n",
    "print(X_train.shape)\n",
    "print(X_train[:2,:])"
   ]
  },
  {
   "cell_type": "code",
   "execution_count": 53,
   "metadata": {},
   "outputs": [
    {
     "data": {
      "text/plain": [
       "(18832, 143)"
      ]
     },
     "execution_count": 53,
     "metadata": {},
     "output_type": "execute_result"
    }
   ],
   "source": [
    "X_val = X_val[:,index]                     #Selecting only important features in the validation set\n",
    "X_val.shape"
   ]
  },
  {
   "cell_type": "code",
   "execution_count": 54,
   "metadata": {},
   "outputs": [
    {
     "data": {
      "text/plain": [
       "(18832, 1)"
      ]
     },
     "execution_count": 54,
     "metadata": {},
     "output_type": "execute_result"
    }
   ],
   "source": [
    "y_val.shape"
   ]
  },
  {
   "cell_type": "code",
   "execution_count": 117,
   "metadata": {},
   "outputs": [
    {
     "data": {
      "text/plain": [
       "(125546, 143)"
      ]
     },
     "execution_count": 117,
     "metadata": {},
     "output_type": "execute_result"
    }
   ],
   "source": [
    "test_new = test_new.iloc[:,index]\n",
    "test_new.shape"
   ]
  },
  {
   "cell_type": "markdown",
   "metadata": {},
   "source": [
    "Now that we have the important features selected, lets do regression with Lasso as well for the important features."
   ]
  },
  {
   "cell_type": "code",
   "execution_count": 55,
   "metadata": {},
   "outputs": [
    {
     "name": "stdout",
     "output_type": "stream",
     "text": [
      "1273.70178479\n"
     ]
    }
   ],
   "source": [
    "l1 = lasso1.fit(X_train, y_train)\n",
    "result = mae(np.expm1(y_val), np.expm1(lasso1.predict(X_val)))          #Finding the mean absolute error\n",
    "print(result)      #MAE = 1273.70178479"
   ]
  },
  {
   "cell_type": "markdown",
   "metadata": {},
   "source": [
    "**RIDGE**"
   ]
  },
  {
   "cell_type": "code",
   "execution_count": 57,
   "metadata": {
    "collapsed": true
   },
   "outputs": [],
   "source": [
    "#Ridge\n",
    "\n",
    "alpha = list(np.arange(0,3,0.5))\n",
    "rid_reg = Ridge(random_state = 20)\n",
    "param_grid = {'alpha': alpha}\n",
    "\n",
    "rid_cv = GridSearchCV(rid_reg, param_grid, verbose = 1, cv = 3)      #Applying gridsearch for ridge regression\n"
   ]
  },
  {
   "cell_type": "code",
   "execution_count": 58,
   "metadata": {},
   "outputs": [
    {
     "name": "stdout",
     "output_type": "stream",
     "text": [
      "Fitting 3 folds for each of 6 candidates, totalling 18 fits\n"
     ]
    },
    {
     "name": "stderr",
     "output_type": "stream",
     "text": [
      "[Parallel(n_jobs=1)]: Done  18 out of  18 | elapsed:   20.3s finished\n"
     ]
    },
    {
     "data": {
      "text/plain": [
       "GridSearchCV(cv=3, error_score='raise',\n",
       "       estimator=Ridge(alpha=1.0, copy_X=True, fit_intercept=True, max_iter=None,\n",
       "   normalize=False, random_state=20, solver='auto', tol=0.001),\n",
       "       fit_params=None, iid=True, n_jobs=1,\n",
       "       param_grid={'alpha': [0.0, 0.5, 1.0, 1.5, 2.0, 2.5]},\n",
       "       pre_dispatch='2*n_jobs', refit=True, return_train_score='warn',\n",
       "       scoring=None, verbose=1)"
      ]
     },
     "execution_count": 58,
     "metadata": {},
     "output_type": "execute_result"
    }
   ],
   "source": [
    "rid_cv.fit(X_train,y_train)    #Fitting data to the ridge model\n"
   ]
  },
  {
   "cell_type": "code",
   "execution_count": 60,
   "metadata": {},
   "outputs": [
    {
     "name": "stdout",
     "output_type": "stream",
     "text": [
      "{'alpha': 2.5}\n"
     ]
    },
    {
     "data": {
      "text/plain": [
       "0.51087109218284943"
      ]
     },
     "execution_count": 60,
     "metadata": {},
     "output_type": "execute_result"
    }
   ],
   "source": [
    "print(rid_cv.best_params_)  #Best alpha - {'alpha': 2.5}\n",
    "rid_cv.best_score_   #Best R-square value - 0.51087109218284943\n"
   ]
  },
  {
   "cell_type": "markdown",
   "metadata": {},
   "source": [
    "We have the best parameter alpha. Let us use this alpha to find the mean absolute error."
   ]
  },
  {
   "cell_type": "code",
   "execution_count": 62,
   "metadata": {},
   "outputs": [
    {
     "name": "stdout",
     "output_type": "stream",
     "text": [
      "1274.54606861\n"
     ]
    }
   ],
   "source": [
    "rid_reg = Ridge(alpha = 2.5, random_state = 20)\n",
    "rid_reg.fit(X_train,y_train)\n",
    "result = mae(np.expm1(y_val), np.expm1(rid_reg.predict(X_val)))\n",
    "print(result)   #MAE = 1274.54606861"
   ]
  },
  {
   "cell_type": "markdown",
   "metadata": {},
   "source": [
    "**LINEAR REGRESSION**"
   ]
  },
  {
   "cell_type": "code",
   "execution_count": 66,
   "metadata": {},
   "outputs": [
    {
     "name": "stderr",
     "output_type": "stream",
     "text": [
      "[Parallel(n_jobs=-1)]: Done   8 out of   8 | elapsed:   21.1s finished\n"
     ]
    }
   ],
   "source": [
    "lin_reg = LinearRegression()\n",
    "lin_cv  = cross_val_score(lin_reg, X_train, y_train, cv = 8, n_jobs = -1, verbose = 1)"
   ]
  },
  {
   "cell_type": "code",
   "execution_count": 67,
   "metadata": {},
   "outputs": [
    {
     "data": {
      "text/plain": [
       "0.51103152766743809"
      ]
     },
     "execution_count": 67,
     "metadata": {},
     "output_type": "execute_result"
    }
   ],
   "source": [
    "lin_cv.mean() #R-square - 0.51103152766743809"
   ]
  },
  {
   "cell_type": "code",
   "execution_count": 68,
   "metadata": {},
   "outputs": [
    {
     "name": "stdout",
     "output_type": "stream",
     "text": [
      "1274.55983435\n"
     ]
    }
   ],
   "source": [
    "lin_reg.fit(X_train, y_train)\n",
    "results = mae(np.expm1(y_val), np.expm1(lin_reg.predict(X_val)))\n",
    "print(results)\n",
    "#MAE = 1274.55983435"
   ]
  },
  {
   "cell_type": "markdown",
   "metadata": {},
   "source": [
    "**DECISION TREE REGRESSOR**"
   ]
  },
  {
   "cell_type": "code",
   "execution_count": 70,
   "metadata": {
    "collapsed": true
   },
   "outputs": [],
   "source": [
    "?DecisionTreeRegressor"
   ]
  },
  {
   "cell_type": "code",
   "execution_count": 80,
   "metadata": {},
   "outputs": [
    {
     "name": "stdout",
     "output_type": "stream",
     "text": [
      "Fitting 3 folds for each of 5 candidates, totalling 15 fits\n"
     ]
    },
    {
     "name": "stderr",
     "output_type": "stream",
     "text": [
      "[Parallel(n_jobs=1)]: Done  15 out of  15 | elapsed:  1.1min finished\n"
     ]
    },
    {
     "name": "stdout",
     "output_type": "stream",
     "text": [
      "{'max_depth': 10}\n"
     ]
    },
    {
     "data": {
      "text/plain": [
       "0.43054964105397264"
      ]
     },
     "execution_count": 80,
     "metadata": {},
     "output_type": "execute_result"
    }
   ],
   "source": [
    "\n",
    "max_depth = list(range(8,13,1))\n",
    "param = {'max_depth': max_depth}\n",
    "dt_reg = DecisionTreeRegressor( random_state = 20)\n",
    "dt_cv = GridSearchCV(dt_reg, param, cv = 3, verbose = 1)\n",
    "dt_cv.fit(X_train,y_train)\n",
    "print(dt_cv.best_params_)          #'max_depth': 10\n",
    "dt_cv.best_score_                  #0.43054964105397264"
   ]
  },
  {
   "cell_type": "code",
   "execution_count": 81,
   "metadata": {},
   "outputs": [
    {
     "name": "stdout",
     "output_type": "stream",
     "text": [
      "1761.81618755\n"
     ]
    }
   ],
   "source": [
    "dt_reg.fit(X_train, y_train)\n",
    "results = mae(np.expm1(y_val), np.expm1(dt_reg.predict(X_val)))\n",
    "print(results) #best - 1761.81618755"
   ]
  },
  {
   "cell_type": "markdown",
   "metadata": {},
   "source": [
    "**ELASTIC NET**"
   ]
  },
  {
   "cell_type": "code",
   "execution_count": 92,
   "metadata": {},
   "outputs": [
    {
     "name": "stdout",
     "output_type": "stream",
     "text": [
      "Fitting 3 folds for each of 2 candidates, totalling 6 fits\n"
     ]
    },
    {
     "name": "stderr",
     "output_type": "stream",
     "text": [
      "[Parallel(n_jobs=1)]: Done   6 out of   6 | elapsed:  2.5min finished\n"
     ]
    },
    {
     "data": {
      "text/plain": [
       "GridSearchCV(cv=3, error_score='raise',\n",
       "       estimator=ElasticNet(alpha=1.0, copy_X=True, fit_intercept=True, l1_ratio=0.5,\n",
       "      max_iter=1000, normalize=False, positive=False, precompute=False,\n",
       "      random_state=20, selection='cyclic', tol=0.0001, warm_start=False),\n",
       "       fit_params=None, iid=True, n_jobs=1,\n",
       "       param_grid={'alpha': [0.001, 0.002]}, pre_dispatch='2*n_jobs',\n",
       "       refit=True, return_train_score='warn', scoring=None, verbose=1)"
      ]
     },
     "execution_count": 92,
     "metadata": {},
     "output_type": "execute_result"
    }
   ],
   "source": [
    "\n",
    "alpha = list(np.arange(0.001,0.003,0.001))\n",
    "param_grid = {'alpha' : alpha}\n",
    "elastic_net = ElasticNet(random_state = 20)\n",
    "elastic_cv = GridSearchCV(elastic_net, param_grid, verbose = 1, cv = 3)     #Applying gridsearch for lasso regression\n",
    "elastic_cv.fit(X_train,y_train)\n"
   ]
  },
  {
   "cell_type": "code",
   "execution_count": 93,
   "metadata": {},
   "outputs": [
    {
     "name": "stdout",
     "output_type": "stream",
     "text": [
      "{'alpha': 0.001}\n",
      "0.509733624752\n"
     ]
    }
   ],
   "source": [
    "print(elastic_cv.best_params_)    #{'alpha': 0.001}\n",
    "print(elastic_cv.best_score_)     #0.509733624752\n"
   ]
  },
  {
   "cell_type": "code",
   "execution_count": 95,
   "metadata": {},
   "outputs": [
    {
     "name": "stdout",
     "output_type": "stream",
     "text": [
      "1272.79920155\n"
     ]
    }
   ],
   "source": [
    "en = ElasticNet(alpha = 0.001)\n",
    "en.fit(X_train, y_train)\n",
    "results = mae(np.expm1(y_val), np.expm1(en.predict(X_val)))\n",
    "print(results)  #1272.79920155"
   ]
  },
  {
   "cell_type": "markdown",
   "metadata": {},
   "source": [
    "**RANDOM FOREST REGRESSOR**"
   ]
  },
  {
   "cell_type": "code",
   "execution_count": 96,
   "metadata": {
    "collapsed": true
   },
   "outputs": [],
   "source": [
    "rf_reg = RandomForestRegressor(random_state = 20)"
   ]
  },
  {
   "cell_type": "code",
   "execution_count": 97,
   "metadata": {},
   "outputs": [
    {
     "data": {
      "text/plain": [
       "{'bootstrap': True,\n",
       " 'criterion': 'mse',\n",
       " 'max_depth': None,\n",
       " 'max_features': 'auto',\n",
       " 'max_leaf_nodes': None,\n",
       " 'min_impurity_decrease': 0.0,\n",
       " 'min_impurity_split': None,\n",
       " 'min_samples_leaf': 1,\n",
       " 'min_samples_split': 2,\n",
       " 'min_weight_fraction_leaf': 0.0,\n",
       " 'n_estimators': 10,\n",
       " 'n_jobs': 1,\n",
       " 'oob_score': False,\n",
       " 'random_state': 20,\n",
       " 'verbose': 0,\n",
       " 'warm_start': False}"
      ]
     },
     "execution_count": 97,
     "metadata": {},
     "output_type": "execute_result"
    }
   ],
   "source": [
    "rf_reg.get_params()"
   ]
  },
  {
   "cell_type": "code",
   "execution_count": 115,
   "metadata": {},
   "outputs": [
    {
     "name": "stdout",
     "output_type": "stream",
     "text": [
      "Fitting 3 folds for each of 1 candidates, totalling 3 fits\n",
      "[CV] min_samples_leaf=15, n_estimators=130 ...........................\n",
      "[CV] ............ min_samples_leaf=15, n_estimators=130, total= 7.0min\n",
      "[CV] min_samples_leaf=15, n_estimators=130 ...........................\n"
     ]
    },
    {
     "name": "stderr",
     "output_type": "stream",
     "text": [
      "[Parallel(n_jobs=1)]: Done   1 out of   1 | elapsed:  7.1min remaining:    0.0s\n"
     ]
    },
    {
     "name": "stdout",
     "output_type": "stream",
     "text": [
      "[CV] ............ min_samples_leaf=15, n_estimators=130, total= 6.9min\n",
      "[CV] min_samples_leaf=15, n_estimators=130 ...........................\n",
      "[CV] ............ min_samples_leaf=15, n_estimators=130, total= 6.8min\n"
     ]
    },
    {
     "name": "stderr",
     "output_type": "stream",
     "text": [
      "[Parallel(n_jobs=1)]: Done   3 out of   3 | elapsed: 20.9min finished\n"
     ]
    },
    {
     "data": {
      "text/plain": [
       "GridSearchCV(cv=3, error_score='raise',\n",
       "       estimator=RandomForestRegressor(bootstrap=True, criterion='mse', max_depth=None,\n",
       "           max_features='auto', max_leaf_nodes=None,\n",
       "           min_impurity_decrease=0.0, min_impurity_split=None,\n",
       "           min_samples_leaf=1, min_samples_split=2,\n",
       "           min_weight_fraction_leaf=0.0, n_estimators=10, n_jobs=1,\n",
       "           oob_score=False, random_state=20, verbose=0, warm_start=False),\n",
       "       fit_params=None, iid=True, n_jobs=1,\n",
       "       param_grid={'n_estimators': [130], 'min_samples_leaf': [15]},\n",
       "       pre_dispatch='2*n_jobs', refit=True, return_train_score='warn',\n",
       "       scoring=None, verbose=2)"
      ]
     },
     "execution_count": 115,
     "metadata": {},
     "output_type": "execute_result"
    }
   ],
   "source": [
    "\n",
    "param_grid = {'n_estimators': [130], 'min_samples_leaf': [15] }\n",
    "\n",
    "rf_cv = GridSearchCV(rf_reg, param_grid, verbose = 2, cv = 3)\n",
    "rf_cv.fit(X_train, y_train)"
   ]
  },
  {
   "cell_type": "code",
   "execution_count": 118,
   "metadata": {},
   "outputs": [
    {
     "name": "stdout",
     "output_type": "stream",
     "text": [
      "{'min_samples_leaf': 15, 'n_estimators': 130}\n"
     ]
    },
    {
     "data": {
      "text/plain": [
       "0.5186638643487953"
      ]
     },
     "execution_count": 118,
     "metadata": {},
     "output_type": "execute_result"
    }
   ],
   "source": [
    "print(rf_cv.best_params_)\n",
    "rf_cv.best_score_\n",
    "#{'n_estimators': 60}\n",
    "#0.51112645440335269\n",
    "\n",
    "#{'min_samples_leaf': 40, 'n_estimators': 40}\n",
    "#0.50783898364188806\n",
    "\n",
    "#{'min_samples_leaf': 60, 'n_estimators': 40}\n",
    "#0.50189638126400771\n",
    "\n",
    "#{'min_samples_leaf': 60, 'n_estimators': 60}\n",
    "#0.5021158544450387\n",
    "\n",
    "#{'min_samples_leaf': 60, 'n_estimators': 100}\n",
    "#0.50267146159802401\n",
    "\n",
    "#{'min_samples_leaf': 30, 'n_estimators': 100}\n",
    "#0.5123942073109542\n",
    "\n",
    "#{'min_samples_leaf': 15, 'n_estimators': 100}\n",
    "#0.51836110846318972\n",
    "\n",
    "#{'min_samples_leaf': 15, 'n_estimators': 130}\n",
    "#0.5186638643487953"
   ]
  },
  {
   "cell_type": "code",
   "execution_count": 119,
   "metadata": {},
   "outputs": [
    {
     "name": "stdout",
     "output_type": "stream",
     "text": [
      "1218.91973862\n"
     ]
    }
   ],
   "source": [
    "rf_reg = RandomForestRegressor(n_estimators = 130, min_samples_leaf = 15)\n",
    "rf_reg.fit(X_train, y_train)\n",
    "results = mae(np.expm1(y_val), np.expm1(rf_reg.predict(X_val)))\n",
    "print(results) #1218.91973862"
   ]
  },
  {
   "cell_type": "markdown",
   "metadata": {},
   "source": [
    "**XGBoost Regressor**"
   ]
  },
  {
   "cell_type": "markdown",
   "metadata": {},
   "source": [
    " Ran this model on google colaboratory due to limitations of the local machine I was using. Outputs are presented as comments"
   ]
  },
  {
   "cell_type": "code",
   "execution_count": null,
   "metadata": {
    "collapsed": true
   },
   "outputs": [],
   "source": [
    "from xgboost import XGBRegressor\n",
    "\n",
    "param = {'n_estimators': [1000],'max_depth' = [6], 'learning_rate' =  [0.1], 'subsample' = [0.8]}\n",
    "xgb_reg = XGBRegressor()"
   ]
  },
  {
   "cell_type": "code",
   "execution_count": null,
   "metadata": {
    "collapsed": true
   },
   "outputs": [],
   "source": [
    "xgb_cv = GridSearchCV(xgb_reg, param, cv = 3, verbose = 1)\n",
    "xgb_cv.fit(X_train, y_train)\n",
    "print(xgb_cv.best_params_)\n",
    "xgb_cv.best_score_\n",
    "\n",
    "#{'n_estimators': 600}\n",
    "#0.5492880376130279\n",
    "\n",
    "#{'n_estimators': 1000}\n",
    "#0.5527066986454021\n",
    "\n",
    "#{'learning_rate': 0.1, 'max_depth': 6, 'n_estimators': 1000, 'subsample': 0.8}\n",
    "#0.5488581261851038"
   ]
  },
  {
   "cell_type": "code",
   "execution_count": null,
   "metadata": {
    "collapsed": true
   },
   "outputs": [],
   "source": [
    "xgb_reg= XGBRegressor(n_estimators = 1000, max_depth=6, learning_rate =  0.1, subsample = 0.8)\n",
    "xgb_reg.fit(X_train, y_train)\n",
    "results = mae(np.expm1(y_val), np.expm1(xgb_reg.predict(X_val)))\n",
    "print(results) \n",
    "\n",
    "#1163.7583461497657 --n_estimators = 1000, max_depth=6, learning_rate =  0.1, subsample = 0.8"
   ]
  },
  {
   "cell_type": "markdown",
   "metadata": {
    "collapsed": true
   },
   "source": [
    "**AdaBoost Regressor**"
   ]
  },
  {
   "cell_type": "code",
   "execution_count": 124,
   "metadata": {
    "collapsed": true
   },
   "outputs": [],
   "source": [
    "from sklearn.ensemble import AdaBoostRegressor\n",
    "param = {'n_estimators': [100]}\n",
    "ab_reg = AdaBoostRegressor(random_state = 20)\n"
   ]
  },
  {
   "cell_type": "code",
   "execution_count": 125,
   "metadata": {},
   "outputs": [
    {
     "data": {
      "text/plain": [
       "{'base_estimator': None,\n",
       " 'learning_rate': 1.0,\n",
       " 'loss': 'linear',\n",
       " 'n_estimators': 50,\n",
       " 'random_state': 20}"
      ]
     },
     "execution_count": 125,
     "metadata": {},
     "output_type": "execute_result"
    }
   ],
   "source": [
    "ab_reg.get_params()"
   ]
  },
  {
   "cell_type": "code",
   "execution_count": 126,
   "metadata": {},
   "outputs": [
    {
     "name": "stdout",
     "output_type": "stream",
     "text": [
      "Fitting 3 folds for each of 1 candidates, totalling 3 fits\n"
     ]
    },
    {
     "name": "stderr",
     "output_type": "stream",
     "text": [
      "[Parallel(n_jobs=2)]: Done   3 out of   3 | elapsed:  2.7min finished\n"
     ]
    },
    {
     "data": {
      "text/plain": [
       "GridSearchCV(cv=3, error_score='raise',\n",
       "       estimator=AdaBoostRegressor(base_estimator=None, learning_rate=1.0, loss='linear',\n",
       "         n_estimators=50, random_state=20),\n",
       "       fit_params=None, iid=True, n_jobs=2,\n",
       "       param_grid={'n_estimators': [100]}, pre_dispatch='2*n_jobs',\n",
       "       refit=True, return_train_score='warn', scoring=None, verbose=1)"
      ]
     },
     "execution_count": 126,
     "metadata": {},
     "output_type": "execute_result"
    }
   ],
   "source": [
    "ab_cv = GridSearchCV(ab_reg, param, cv = 3, verbose = 1, n_jobs = 2)\n",
    "ab_cv.fit(X_train, y_train)"
   ]
  },
  {
   "cell_type": "code",
   "execution_count": 127,
   "metadata": {},
   "outputs": [
    {
     "name": "stdout",
     "output_type": "stream",
     "text": [
      "{'n_estimators': 100}\n"
     ]
    },
    {
     "data": {
      "text/plain": [
       "0.1902591311641775"
      ]
     },
     "execution_count": 127,
     "metadata": {},
     "output_type": "execute_result"
    }
   ],
   "source": [
    "print(ab_cv.best_params_)\n",
    "ab_cv.best_score_\n"
   ]
  },
  {
   "cell_type": "markdown",
   "metadata": {
    "collapsed": true
   },
   "source": [
    "So we can see that **XGBoost Regressor** is the best model with least mean absolute error. Now lets predict the test_data on this model."
   ]
  },
  {
   "cell_type": "code",
   "execution_count": null,
   "metadata": {
    "collapsed": true
   },
   "outputs": [],
   "source": [
    "test_new = test_new.iloc[:,index]\n",
    "test_new.shape\n",
    "ID = test_data.id\n",
    "X = np.concatenate((X_train,X_val),axis=0)\n",
    "\n",
    "Y = np.concatenate((y_train,y_val),axis=0)\n",
    "\n",
    "#Best model\n",
    "model = XGBRegressor(n_estimators = 1000, max_depth=6, learning_rate =  0.1, subsample = 0.8 ,seed=0)\n",
    "model.fit(X,Y)\n",
    "predictions = np.expm1(best_model.predict(test_new))\n",
    "\n"
   ]
  },
  {
   "cell_type": "code",
   "execution_count": null,
   "metadata": {
    "collapsed": true
   },
   "outputs": [],
   "source": [
    "with open(\"C:\\\\Users\\\\Arun\\\\Documents\\\\DeZyre data\\\\Allstate insurance severity\\\\submission.csv\", \"w\") as subfile:\n",
    "    subfile1.write(\"id,loss\\n\")\n",
    "    for i, pred in enumerate(list(predictions)):\n",
    "        subfile1.write(\"%s,%s\\n\"%(ID[i],pred))\n"
   ]
  },
  {
   "cell_type": "markdown",
   "metadata": {},
   "source": [
    "The output file was submitted on Kaggle. The Mean absolute error was 1134.24349."
   ]
  },
  {
   "cell_type": "code",
   "execution_count": null,
   "metadata": {
    "collapsed": true
   },
   "outputs": [],
   "source": []
  }
 ],
 "metadata": {
  "kernelspec": {
   "display_name": "Python 3",
   "language": "python",
   "name": "python3"
  },
  "language_info": {
   "codemirror_mode": {
    "name": "ipython",
    "version": 3
   },
   "file_extension": ".py",
   "mimetype": "text/x-python",
   "name": "python",
   "nbconvert_exporter": "python",
   "pygments_lexer": "ipython3",
   "version": "3.6.3"
  }
 },
 "nbformat": 4,
 "nbformat_minor": 2
}
